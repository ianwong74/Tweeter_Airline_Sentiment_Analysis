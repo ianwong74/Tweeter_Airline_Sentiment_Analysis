{
  "nbformat": 4,
  "nbformat_minor": 0,
  "metadata": {
    "colab": {
      "name": "Copy of Copy of Copy of csda_1040_lab2_demo.ipynb",
      "provenance": [],
      "collapsed_sections": [],
      "include_colab_link": true
    },
    "kernelspec": {
      "name": "python3",
      "display_name": "Python 3"
    },
    "language_info": {
      "name": "python"
    },
    "accelerator": "GPU"
  },
  "cells": [
    {
      "cell_type": "markdown",
      "metadata": {
        "id": "view-in-github",
        "colab_type": "text"
      },
      "source": [
        "<a href=\"https://colab.research.google.com/github/ianwong74/Tweeter_Airline_Sentiment_Analysis/blob/main/csda_1040_lab2_demo.ipynb\" target=\"_parent\"><img src=\"https://colab.research.google.com/assets/colab-badge.svg\" alt=\"Open In Colab\"/></a>"
      ]
    },
    {
      "cell_type": "markdown",
      "metadata": {
        "id": "7zzRsOtsDEhv"
      },
      "source": [
        "# CSDA1040 - Group 5 - Lab2 - US Airline Tweets Sentiment Analysis\n",
        "** This will take up to 1 minute for initial load, Thank you for your patience*"
      ]
    },
    {
      "cell_type": "code",
      "metadata": {
        "id": "Y124pSiU4JX5"
      },
      "source": [
        "# Comment these block out before publishing to Binder, packages listed in requirements.txt will be preinstalled when building the image\n",
        "#from IPython.utils import io\n",
        "#with io.capture_output() as captured: \n",
        "# !pip install html2text\n",
        "# !pip install nltk\n",
        "# !pip install db-sqlite3\n",
        "# !pip install pytest-shutil\n",
        "# !pip install spacy==2.3.5\n",
        "# !pip install Flask==1.0.2\n",
        "# !pip install numpy==1.16.3\n",
        "# !pip install scikit-learn==0.20.2\n",
        "# !pip install fastai==1.0.61\n",
        "# !pip install torch==1.5.0\n",
        "# !pip install pillow~=6.0\n",
        "# !pip install python-multipart==0.0.5\n",
        "# !pip install voila"
      ],
      "execution_count": 1,
      "outputs": []
    },
    {
      "cell_type": "code",
      "metadata": {
        "id": "rmQ_z-A27nCy",
        "outputId": "a5951aef-ea15-42f3-e627-c8f93004daee",
        "colab": {
          "base_uri": "https://localhost:8080/",
          "height": 381
        }
      },
      "source": [
        "import sqlite3 as db\n",
        "import re\n",
        "import os\n",
        "import codecs\n",
        "import pandas as pd\n",
        "import numpy as np\n",
        "import html2text\n",
        "#import matplotlib.pyplot as plt\n",
        "#%matplotlib inline\n",
        "#import seaborn as sns\n",
        "import random\n",
        "#import shutil\n",
        "#import functools\n",
        "#import time\n",
        "import warnings\n",
        "import urllib.request\n",
        "warnings.filterwarnings('ignore') \n",
        "np.set_printoptions(precision=6, suppress=True)\n",
        "import ipywidgets as widgets\n",
        "from IPython.display import display\n",
        "\n",
        "import fastai\n",
        "from fastai import *\n",
        "from fastai.text import *\n",
        "from fastai.core import *\n",
        "import pickle\n",
        "from fastai.callbacks import *"
      ],
      "execution_count": 2,
      "outputs": [
        {
          "output_type": "error",
          "ename": "ModuleNotFoundError",
          "evalue": "ignored",
          "traceback": [
            "\u001b[0;31m---------------------------------------------------------------------------\u001b[0m",
            "\u001b[0;31mModuleNotFoundError\u001b[0m                       Traceback (most recent call last)",
            "\u001b[0;32m<ipython-input-2-8c03d9bc3449>\u001b[0m in \u001b[0;36m<module>\u001b[0;34m()\u001b[0m\n\u001b[1;32m      5\u001b[0m \u001b[0;32mimport\u001b[0m \u001b[0mpandas\u001b[0m \u001b[0;32mas\u001b[0m \u001b[0mpd\u001b[0m\u001b[0;34m\u001b[0m\u001b[0;34m\u001b[0m\u001b[0m\n\u001b[1;32m      6\u001b[0m \u001b[0;32mimport\u001b[0m \u001b[0mnumpy\u001b[0m \u001b[0;32mas\u001b[0m \u001b[0mnp\u001b[0m\u001b[0;34m\u001b[0m\u001b[0;34m\u001b[0m\u001b[0m\n\u001b[0;32m----> 7\u001b[0;31m \u001b[0;32mimport\u001b[0m \u001b[0mhtml2text\u001b[0m\u001b[0;34m\u001b[0m\u001b[0;34m\u001b[0m\u001b[0m\n\u001b[0m\u001b[1;32m      8\u001b[0m \u001b[0;31m#import matplotlib.pyplot as plt\u001b[0m\u001b[0;34m\u001b[0m\u001b[0;34m\u001b[0m\u001b[0;34m\u001b[0m\u001b[0m\n\u001b[1;32m      9\u001b[0m \u001b[0;31m#%matplotlib inline\u001b[0m\u001b[0;34m\u001b[0m\u001b[0;34m\u001b[0m\u001b[0;34m\u001b[0m\u001b[0m\n",
            "\u001b[0;31mModuleNotFoundError\u001b[0m: No module named 'html2text'",
            "",
            "\u001b[0;31m---------------------------------------------------------------------------\u001b[0;32m\nNOTE: If your import is failing due to a missing package, you can\nmanually install dependencies using either !pip or !apt.\n\nTo view examples of installing some common dependencies, click the\n\"Open Examples\" button below.\n\u001b[0;31m---------------------------------------------------------------------------\u001b[0m\n"
          ]
        }
      ]
    },
    {
      "cell_type": "code",
      "metadata": {
        "id": "bS96kmMW7EiS"
      },
      "source": [
        "# download pkl files from shared file from Google drive\n",
        "# CSDA 1040 Team, please update the shared file id if you want to use your train result. Otherwise you are using the team's master version.\n",
        "# sentiments1.pkl: https://drive.google.com/file/d/1--FqAwtWYYWglNrA-NZ4bd_wMjp27Rg_/view?usp=sharing\n",
        "\n",
        "from IPython.utils import io\n",
        "with io.capture_output() as captured: \n",
        "  !gdown --id '1--FqAwtWYYWglNrA-NZ4bd_wMjp27Rg_' --output pkl\n",
        "\n",
        "# tweets_main.db: https://drive.google.com/file/d/1F3wvsn2eAVT964uFit8iLqZipIBowyj7/view?usp=sharing\n",
        "from IPython.utils import io\n",
        "with io.capture_output() as captured: \n",
        "  !gdown --id '1F3wvsn2eAVT964uFit8iLqZipIBowyj7' --output tw\n",
        "cn = db.connect('tw')\n",
        "cmd = cn.cursor()"
      ],
      "execution_count": null,
      "outputs": []
    },
    {
      "cell_type": "code",
      "metadata": {
        "id": "5woDw8YayrlS"
      },
      "source": [
        "#df = pd.read_sql('select tweet_body from tweets', cn) \n",
        "#df.head()"
      ],
      "execution_count": null,
      "outputs": []
    },
    {
      "cell_type": "code",
      "metadata": {
        "id": "E2Wd5AMSD2Fa"
      },
      "source": [
        "#learn = load_learner('.','pkl')\n",
        "#ts = pd.read_sql('select tweet_body from tweets', cn)\n",
        "#n = random.randint(0,len(ts)-1)\n",
        "#t = ts.loc[n]\n",
        "#print(t)\n",
        "#p = learn.predict(t)\n",
        "#print(p)"
      ],
      "execution_count": null,
      "outputs": []
    },
    {
      "cell_type": "code",
      "metadata": {
        "id": "8xlCBS9u44fZ"
      },
      "source": [
        "# define class & properties\n",
        "class Sentiments():\n",
        "    # class init function, load model jester_jokes (jj) from exported model from shared Google drive prepared by csda_1040_lab1.ipynb\n",
        "    def __init__(self):\n",
        "      # load mode to learner\n",
        "      self.__learn = load_learner('.','pkl')\n",
        "      # load tweets_main.db db-sqlite3 file, extract tweet_body (text)\n",
        "      self.__tweets = pd.read_sql('select tweet_body from tweets', cn)\n",
        "      n = random.randint(0,len(self.__tweets)-1)\n",
        "      self.__get_preds(n)\n",
        " \n",
        "    def __get_preds(self, n):\n",
        "      self.__tweet_body = self.__tweets.loc[n]\n",
        "      pred,_,_ = self.__learn.predict(self.__tweet_body)\n",
        "      thumbs_up = '\\U0001F44D'\n",
        "      thumbs_down = '\\U0001F44E'\n",
        "      if str(pred) == '1':\n",
        "        pred_rslt = thumbs_up\n",
        "      else: \n",
        "        pred_rslt = thumbs_down\n",
        "      self.__preds = pred_rslt\n",
        "      \n",
        "    def __next_preds(self):\n",
        "      n = random.randint(0,len(self.__tweets)-1)\n",
        "      self.__get_preds(n)\n",
        "\n"
      ],
      "execution_count": null,
      "outputs": []
    },
    {
      "cell_type": "code",
      "metadata": {
        "id": "gRdoPBqw_GNp"
      },
      "source": [
        "#sentiments = Sentiments()\n",
        "#sentiments._Sentiments__tweets.head()\n",
        "#print(sentiments._Sentiments__preds)\n",
        "#print(sentiments._Sentiments__tweet_body.values)\n",
        "#x = sentiments._Sentiments__tweet_body.values[0]\n",
        "#print(np.fromstring(x, dtype=str))\n",
        "#x"
      ],
      "execution_count": null,
      "outputs": []
    },
    {
      "cell_type": "code",
      "metadata": {
        "id": "JRq4heDAmH41"
      },
      "source": [
        "#sentiments._Sentiments__next_preds()\n",
        "#print(sentiments._Sentiments__preds)\n",
        "#print(sentiments._Sentiments__tweet_body.values)"
      ],
      "execution_count": null,
      "outputs": []
    },
    {
      "cell_type": "code",
      "metadata": {
        "id": "PFE_jt0h4ziq"
      },
      "source": [
        "# create the recommender\n",
        "# from io import StringIO\n",
        "sentiments = Sentiments()\n",
        "ui_html = None\n",
        "ui_slider = None\n",
        "ui_pred = None\n",
        "ui_tweet_body = None\n",
        "ui_sumbit = None\n",
        "ui_container = None\n",
        "\n",
        "\n",
        "def ftn_render_cold_start():\n",
        "  # renders the cold-start UI, load first tweet and sentiment\n",
        "  global ui_cold_start_container\n",
        "  global ui_sentiment_lbl\n",
        "  global ui_tweet_body_txt\n",
        "  global ui_sumbit\n",
        "  pred = sentiments._Sentiments__preds\n",
        "  txt = sentiments._Sentiments__tweet_body.values[0]\n",
        "  ui_tweet_body_txt = widgets.Text(layout=widgets.Layout(width=\"70%\"))\n",
        "  ui_tweet_body_txt.value = txt\n",
        "  ui_sentiment_lbl = widgets.Label('Predicted Sentiment: ' + pred)\n",
        "  ui_sumbit = widgets.Button(description=\"Next\")\n",
        "  ui_sumbit.layout.margin = '20px'\n",
        "  ui_sumbit.on_click(ftn_on_click)\n",
        "  items = [ui_tweet_body_txt, ui_sentiment_lbl, ui_sumbit]\n",
        "  box = widgets.VBox(items)\n",
        "  box.layout = widgets.Layout(align_items='center', width='auto')\n",
        "  display(box)\n",
        "  ui_cold_start_container = box\n",
        "\n",
        "def ftn_on_click(self):\n",
        "  global ui_cold_start_container\n",
        "  global ui_sentiment_lbl\n",
        "  global ui_tweet_body_txt\n",
        "  global ui_sumbit\n",
        "  sentiments._Sentiments__next_preds()\n",
        "  pred = sentiments._Sentiments__preds\n",
        "  txt = sentiments._Sentiments__tweet_body.values[0]\n",
        "  ui_tweet_body_txt = widgets.Text(layout=widgets.Layout(width=\"70%\"))\n",
        "  ui_tweet_body_txt.value = txt\n",
        "  ui_sentiment_lbl = widgets.Label('Predicted Sentiment: ' + pred)\n",
        "  items = [ui_tweet_body_txt, ui_sentiment_lbl, ui_sumbit]\n",
        "  box = widgets.VBox(items)\n",
        "  box.layout = widgets.Layout(align_items='center', width='auto')\n",
        "  display(box)\n",
        "  ui_cold_start_container = box\n"
      ],
      "execution_count": null,
      "outputs": []
    },
    {
      "cell_type": "code",
      "metadata": {
        "id": "0-4sDWA-VDVl"
      },
      "source": [
        "ftn_render_cold_start()"
      ],
      "execution_count": null,
      "outputs": []
    }
  ]
}
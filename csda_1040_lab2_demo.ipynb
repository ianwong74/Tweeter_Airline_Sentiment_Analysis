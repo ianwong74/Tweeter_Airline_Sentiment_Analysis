{
  "nbformat": 4,
  "nbformat_minor": 0,
  "metadata": {
    "colab": {
      "name": "Copy of Copy of csda_1040_lab2_demo.ipynb",
      "provenance": [],
      "collapsed_sections": [],
      "include_colab_link": true
    },
    "kernelspec": {
      "name": "python3",
      "display_name": "Python 3"
    },
    "language_info": {
      "name": "python"
    },
    "accelerator": "GPU",
    "widgets": {
      "application/vnd.jupyter.widget-state+json": {
        "9faf3eea116548009321a825c1dcdfa3": {
          "model_module": "@jupyter-widgets/controls",
          "model_name": "VBoxModel",
          "state": {
            "_view_name": "VBoxView",
            "_dom_classes": [],
            "_model_name": "VBoxModel",
            "_view_module": "@jupyter-widgets/controls",
            "_model_module_version": "1.5.0",
            "_view_count": null,
            "_view_module_version": "1.5.0",
            "box_style": "",
            "layout": "IPY_MODEL_758659de463a4890b7cb835cf95c84f4",
            "_model_module": "@jupyter-widgets/controls",
            "children": [
              "IPY_MODEL_c1c45e47aa16403e91b0aff3aa222e43",
              "IPY_MODEL_20161c35962a485aa54e5015904814d6",
              "IPY_MODEL_fbce54953ea3426ebcb53ca27722d41c"
            ]
          }
        },
        "758659de463a4890b7cb835cf95c84f4": {
          "model_module": "@jupyter-widgets/base",
          "model_name": "LayoutModel",
          "state": {
            "_view_name": "LayoutView",
            "grid_template_rows": null,
            "right": null,
            "justify_content": null,
            "_view_module": "@jupyter-widgets/base",
            "overflow": null,
            "_model_module_version": "1.2.0",
            "_view_count": null,
            "flex_flow": null,
            "width": "auto",
            "min_width": null,
            "border": null,
            "align_items": "center",
            "bottom": null,
            "_model_module": "@jupyter-widgets/base",
            "top": null,
            "grid_column": null,
            "overflow_y": null,
            "overflow_x": null,
            "grid_auto_flow": null,
            "grid_area": null,
            "grid_template_columns": null,
            "flex": null,
            "_model_name": "LayoutModel",
            "justify_items": null,
            "grid_row": null,
            "max_height": null,
            "align_content": null,
            "visibility": null,
            "align_self": null,
            "height": null,
            "min_height": null,
            "padding": null,
            "grid_auto_rows": null,
            "grid_gap": null,
            "max_width": null,
            "order": null,
            "_view_module_version": "1.2.0",
            "grid_template_areas": null,
            "object_position": null,
            "object_fit": null,
            "grid_auto_columns": null,
            "margin": null,
            "display": null,
            "left": null
          }
        },
        "c1c45e47aa16403e91b0aff3aa222e43": {
          "model_module": "@jupyter-widgets/controls",
          "model_name": "TextModel",
          "state": {
            "_view_name": "TextView",
            "style": "IPY_MODEL_9ab36e4f95c3419c81f37fafc11428e0",
            "_dom_classes": [],
            "description": "",
            "_model_name": "TextModel",
            "placeholder": "​",
            "_view_module": "@jupyter-widgets/controls",
            "_model_module_version": "1.5.0",
            "value": "@USAirways can we hold two seats for 11:35 flight from PHX to Las 1856 as this delayed flight 556 is not going to arrive on-time",
            "_view_count": null,
            "disabled": false,
            "_view_module_version": "1.5.0",
            "continuous_update": true,
            "description_tooltip": null,
            "_model_module": "@jupyter-widgets/controls",
            "layout": "IPY_MODEL_40d01cafdf4e41ddb987ccbc1bdf1b17"
          }
        },
        "20161c35962a485aa54e5015904814d6": {
          "model_module": "@jupyter-widgets/controls",
          "model_name": "LabelModel",
          "state": {
            "_view_name": "LabelView",
            "style": "IPY_MODEL_e3683443a4cf4315b199220753b6ab57",
            "_dom_classes": [],
            "description": "",
            "_model_name": "LabelModel",
            "placeholder": "​",
            "_view_module": "@jupyter-widgets/controls",
            "_model_module_version": "1.5.0",
            "value": "Predicted Sentiment: 👎",
            "_view_count": null,
            "_view_module_version": "1.5.0",
            "description_tooltip": null,
            "_model_module": "@jupyter-widgets/controls",
            "layout": "IPY_MODEL_2e651423c6864a168efdf6a2295c1268"
          }
        },
        "fbce54953ea3426ebcb53ca27722d41c": {
          "model_module": "@jupyter-widgets/controls",
          "model_name": "ButtonModel",
          "state": {
            "_view_name": "ButtonView",
            "style": "IPY_MODEL_bdbb5d8232834d259535457386709a93",
            "_dom_classes": [],
            "description": "Next",
            "_model_name": "ButtonModel",
            "button_style": "",
            "_view_module": "@jupyter-widgets/controls",
            "_model_module_version": "1.5.0",
            "tooltip": "",
            "_view_count": null,
            "disabled": false,
            "_view_module_version": "1.5.0",
            "layout": "IPY_MODEL_ea0cec11c82c481c8c05d273f0cc9fce",
            "_model_module": "@jupyter-widgets/controls",
            "icon": ""
          }
        },
        "9ab36e4f95c3419c81f37fafc11428e0": {
          "model_module": "@jupyter-widgets/controls",
          "model_name": "DescriptionStyleModel",
          "state": {
            "_view_name": "StyleView",
            "_model_name": "DescriptionStyleModel",
            "description_width": "",
            "_view_module": "@jupyter-widgets/base",
            "_model_module_version": "1.5.0",
            "_view_count": null,
            "_view_module_version": "1.2.0",
            "_model_module": "@jupyter-widgets/controls"
          }
        },
        "40d01cafdf4e41ddb987ccbc1bdf1b17": {
          "model_module": "@jupyter-widgets/base",
          "model_name": "LayoutModel",
          "state": {
            "_view_name": "LayoutView",
            "grid_template_rows": null,
            "right": null,
            "justify_content": null,
            "_view_module": "@jupyter-widgets/base",
            "overflow": null,
            "_model_module_version": "1.2.0",
            "_view_count": null,
            "flex_flow": null,
            "width": "70%",
            "min_width": null,
            "border": null,
            "align_items": null,
            "bottom": null,
            "_model_module": "@jupyter-widgets/base",
            "top": null,
            "grid_column": null,
            "overflow_y": null,
            "overflow_x": null,
            "grid_auto_flow": null,
            "grid_area": null,
            "grid_template_columns": null,
            "flex": null,
            "_model_name": "LayoutModel",
            "justify_items": null,
            "grid_row": null,
            "max_height": null,
            "align_content": null,
            "visibility": null,
            "align_self": null,
            "height": null,
            "min_height": null,
            "padding": null,
            "grid_auto_rows": null,
            "grid_gap": null,
            "max_width": null,
            "order": null,
            "_view_module_version": "1.2.0",
            "grid_template_areas": null,
            "object_position": null,
            "object_fit": null,
            "grid_auto_columns": null,
            "margin": null,
            "display": null,
            "left": null
          }
        },
        "e3683443a4cf4315b199220753b6ab57": {
          "model_module": "@jupyter-widgets/controls",
          "model_name": "DescriptionStyleModel",
          "state": {
            "_view_name": "StyleView",
            "_model_name": "DescriptionStyleModel",
            "description_width": "",
            "_view_module": "@jupyter-widgets/base",
            "_model_module_version": "1.5.0",
            "_view_count": null,
            "_view_module_version": "1.2.0",
            "_model_module": "@jupyter-widgets/controls"
          }
        },
        "2e651423c6864a168efdf6a2295c1268": {
          "model_module": "@jupyter-widgets/base",
          "model_name": "LayoutModel",
          "state": {
            "_view_name": "LayoutView",
            "grid_template_rows": null,
            "right": null,
            "justify_content": null,
            "_view_module": "@jupyter-widgets/base",
            "overflow": null,
            "_model_module_version": "1.2.0",
            "_view_count": null,
            "flex_flow": null,
            "width": null,
            "min_width": null,
            "border": null,
            "align_items": null,
            "bottom": null,
            "_model_module": "@jupyter-widgets/base",
            "top": null,
            "grid_column": null,
            "overflow_y": null,
            "overflow_x": null,
            "grid_auto_flow": null,
            "grid_area": null,
            "grid_template_columns": null,
            "flex": null,
            "_model_name": "LayoutModel",
            "justify_items": null,
            "grid_row": null,
            "max_height": null,
            "align_content": null,
            "visibility": null,
            "align_self": null,
            "height": null,
            "min_height": null,
            "padding": null,
            "grid_auto_rows": null,
            "grid_gap": null,
            "max_width": null,
            "order": null,
            "_view_module_version": "1.2.0",
            "grid_template_areas": null,
            "object_position": null,
            "object_fit": null,
            "grid_auto_columns": null,
            "margin": null,
            "display": null,
            "left": null
          }
        },
        "bdbb5d8232834d259535457386709a93": {
          "model_module": "@jupyter-widgets/controls",
          "model_name": "ButtonStyleModel",
          "state": {
            "_view_name": "StyleView",
            "_model_name": "ButtonStyleModel",
            "_view_module": "@jupyter-widgets/base",
            "_model_module_version": "1.5.0",
            "_view_count": null,
            "button_color": null,
            "font_weight": "",
            "_view_module_version": "1.2.0",
            "_model_module": "@jupyter-widgets/controls"
          }
        },
        "ea0cec11c82c481c8c05d273f0cc9fce": {
          "model_module": "@jupyter-widgets/base",
          "model_name": "LayoutModel",
          "state": {
            "_view_name": "LayoutView",
            "grid_template_rows": null,
            "right": null,
            "justify_content": null,
            "_view_module": "@jupyter-widgets/base",
            "overflow": null,
            "_model_module_version": "1.2.0",
            "_view_count": null,
            "flex_flow": null,
            "width": null,
            "min_width": null,
            "border": null,
            "align_items": null,
            "bottom": null,
            "_model_module": "@jupyter-widgets/base",
            "top": null,
            "grid_column": null,
            "overflow_y": null,
            "overflow_x": null,
            "grid_auto_flow": null,
            "grid_area": null,
            "grid_template_columns": null,
            "flex": null,
            "_model_name": "LayoutModel",
            "justify_items": null,
            "grid_row": null,
            "max_height": null,
            "align_content": null,
            "visibility": null,
            "align_self": null,
            "height": null,
            "min_height": null,
            "padding": null,
            "grid_auto_rows": null,
            "grid_gap": null,
            "max_width": null,
            "order": null,
            "_view_module_version": "1.2.0",
            "grid_template_areas": null,
            "object_position": null,
            "object_fit": null,
            "grid_auto_columns": null,
            "margin": "20px",
            "display": null,
            "left": null
          }
        }
      }
    }
  },
  "cells": [
    {
      "cell_type": "markdown",
      "metadata": {
        "id": "view-in-github",
        "colab_type": "text"
      },
      "source": [
        "<a href=\"https://colab.research.google.com/github/ianwong74/Tweeter_Airline_Sentiment_Analysis/blob/main/csda_1040_lab2_demo.ipynb\" target=\"_parent\"><img src=\"https://colab.research.google.com/assets/colab-badge.svg\" alt=\"Open In Colab\"/></a>"
      ]
    },
    {
      "cell_type": "markdown",
      "metadata": {
        "id": "7zzRsOtsDEhv"
      },
      "source": [
        "# CSDA1040 - Group 5 - Lab2 - US Airline Tweets Sentiment Analysis\n",
        "** This will take up to 1 minute for initial load, Thank you for your patience*"
      ]
    },
    {
      "cell_type": "code",
      "metadata": {
        "id": "Y124pSiU4JX5"
      },
      "source": [
        "# Comment these block out before publishing to Binder, packages listed in requirements.txt will be preinstalled when building the image\n",
        "from IPython.utils import io\n",
        "\n",
        "with io.capture_output() as captured: \n",
        "  !pip install html2text\n",
        "  !pip install nltk\n",
        "  !pip install db-sqlite3\n",
        "  !pip install fastai==1.0.61\n",
        "  !pip install pytest-shutil\n",
        "  !pip install voila"
      ],
      "execution_count": null,
      "outputs": []
    },
    {
      "cell_type": "code",
      "metadata": {
        "id": "rmQ_z-A27nCy"
      },
      "source": [
        "import sqlite3 as db\n",
        "import re\n",
        "import os\n",
        "import codecs\n",
        "import pandas as pd\n",
        "import numpy as np\n",
        "import html2text\n",
        "#import matplotlib.pyplot as plt\n",
        "#%matplotlib inline\n",
        "#import seaborn as sns\n",
        "import random\n",
        "#import shutil\n",
        "#import functools\n",
        "#import time\n",
        "import warnings\n",
        "import urllib.request\n",
        "warnings.filterwarnings('ignore') \n",
        "np.set_printoptions(precision=6, suppress=True)\n",
        "import ipywidgets as widgets\n",
        "from IPython.display import display\n",
        "\n",
        "import fastai\n",
        "from fastai import *\n",
        "from fastai.text import *\n",
        "from fastai.core import *\n",
        "import pickle\n",
        "from fastai.callbacks import *"
      ],
      "execution_count": null,
      "outputs": []
    },
    {
      "cell_type": "code",
      "metadata": {
        "id": "bS96kmMW7EiS"
      },
      "source": [
        "# download pkl files from shared file from Google drive\n",
        "# CSDA 1040 Team, please update the shared file id if you want to use your train result. Otherwise you are using the team's master version.\n",
        "# sentiments1.pkl: https://drive.google.com/file/d/1--FqAwtWYYWglNrA-NZ4bd_wMjp27Rg_/view?usp=sharing\n",
        "\n",
        "from IPython.utils import io\n",
        "with io.capture_output() as captured: \n",
        "  !gdown --id '1--FqAwtWYYWglNrA-NZ4bd_wMjp27Rg_' --output pkl\n",
        "\n",
        "# tweets_main.db: https://drive.google.com/file/d/1F3wvsn2eAVT964uFit8iLqZipIBowyj7/view?usp=sharing\n",
        "from IPython.utils import io\n",
        "with io.capture_output() as captured: \n",
        "  !gdown --id '1F3wvsn2eAVT964uFit8iLqZipIBowyj7' --output tw\n",
        "cn = db.connect('tw')\n",
        "cmd = cn.cursor()"
      ],
      "execution_count": null,
      "outputs": []
    },
    {
      "cell_type": "code",
      "metadata": {
        "id": "5woDw8YayrlS"
      },
      "source": [
        "#df = pd.read_sql('select tweet_body from tweets', cn) \n",
        "#df.head()"
      ],
      "execution_count": null,
      "outputs": []
    },
    {
      "cell_type": "code",
      "metadata": {
        "id": "E2Wd5AMSD2Fa"
      },
      "source": [
        "#learn = load_learner('.','pkl')\n",
        "#ts = pd.read_sql('select tweet_body from tweets', cn)\n",
        "#n = random.randint(0,len(ts)-1)\n",
        "#t = ts.loc[n]\n",
        "#print(t)\n",
        "#p = learn.predict(t)\n",
        "#print(p)"
      ],
      "execution_count": null,
      "outputs": []
    },
    {
      "cell_type": "code",
      "metadata": {
        "id": "8xlCBS9u44fZ"
      },
      "source": [
        "# define class & properties\n",
        "class Sentiments():\n",
        "    # class init function, load model jester_jokes (jj) from exported model from shared Google drive prepared by csda_1040_lab1.ipynb\n",
        "    def __init__(self):\n",
        "      # load mode to learner\n",
        "      self.__learn = load_learner('.','pkl')\n",
        "      # load tweets_main.db db-sqlite3 file, extract tweet_body (text)\n",
        "      self.__tweets = pd.read_sql('select tweet_body from tweets', cn)\n",
        "      n = random.randint(0,len(self.__tweets)-1)\n",
        "      self.__get_preds(n)\n",
        " \n",
        "    def __get_preds(self, n):\n",
        "      self.__tweet_body = self.__tweets.loc[n]\n",
        "      pred,_,_ = self.__learn.predict(self.__tweet_body)\n",
        "      thumbs_up = '\\U0001F44D'\n",
        "      thumbs_down = '\\U0001F44E'\n",
        "      if str(pred) == '1':\n",
        "        pred_rslt = thumbs_up\n",
        "      else: \n",
        "        pred_rslt = thumbs_down\n",
        "      self.__preds = pred_rslt\n",
        "      \n",
        "    def __next_preds(self):\n",
        "      n = random.randint(0,len(self.__tweets)-1)\n",
        "      self.__get_preds(n)\n",
        "\n"
      ],
      "execution_count": null,
      "outputs": []
    },
    {
      "cell_type": "code",
      "metadata": {
        "id": "gRdoPBqw_GNp"
      },
      "source": [
        "#sentiments = Sentiments()\n",
        "#sentiments._Sentiments__tweets.head()\n",
        "#print(sentiments._Sentiments__preds)\n",
        "#print(sentiments._Sentiments__tweet_body.values)\n",
        "#x = sentiments._Sentiments__tweet_body.values[0]\n",
        "#print(np.fromstring(x, dtype=str))\n",
        "#x"
      ],
      "execution_count": null,
      "outputs": []
    },
    {
      "cell_type": "code",
      "metadata": {
        "id": "JRq4heDAmH41"
      },
      "source": [
        "#sentiments._Sentiments__next_preds()\n",
        "#print(sentiments._Sentiments__preds)\n",
        "#print(sentiments._Sentiments__tweet_body.values)"
      ],
      "execution_count": null,
      "outputs": []
    },
    {
      "cell_type": "code",
      "metadata": {
        "id": "PFE_jt0h4ziq",
        "colab": {
          "base_uri": "https://localhost:8080/",
          "height": 16
        },
        "outputId": "be4ab803-425f-48b1-9bbd-8d3150164e38"
      },
      "source": [
        "# create the recommender\n",
        "# from io import StringIO\n",
        "sentiments = Sentiments()\n",
        "ui_html = None\n",
        "ui_slider = None\n",
        "ui_pred = None\n",
        "ui_tweet_body = None\n",
        "ui_sumbit = None\n",
        "ui_container = None\n",
        "\n",
        "\n",
        "def ftn_render_cold_start():\n",
        "  # renders the cold-start UI, load first tweet and sentiment\n",
        "  global ui_cold_start_container\n",
        "  global ui_sentiment_lbl\n",
        "  global ui_tweet_body_txt\n",
        "  global ui_sumbit\n",
        "  pred = sentiments._Sentiments__preds\n",
        "  txt = sentiments._Sentiments__tweet_body.values[0]\n",
        "  ui_tweet_body_txt = widgets.Text(layout=widgets.Layout(width=\"70%\"))\n",
        "  ui_tweet_body_txt.value = txt\n",
        "  ui_sentiment_lbl = widgets.Label('Predicted Sentiment: ' + pred)\n",
        "  ui_sumbit = widgets.Button(description=\"Next\")\n",
        "  ui_sumbit.layout.margin = '20px'\n",
        "  ui_sumbit.on_click(ftn_on_click)\n",
        "  items = [ui_tweet_body_txt, ui_sentiment_lbl, ui_sumbit]\n",
        "  box = widgets.VBox(items)\n",
        "  box.layout = widgets.Layout(align_items='center', width='auto')\n",
        "  display(box)\n",
        "  ui_cold_start_container = box\n",
        "\n",
        "def ftn_on_click(self):\n",
        "  global ui_cold_start_container\n",
        "  global ui_sentiment_lbl\n",
        "  global ui_tweet_body_txt\n",
        "  global ui_sumbit\n",
        "  sentiments._Sentiments__next_preds()\n",
        "  pred = sentiments._Sentiments__preds\n",
        "  txt = sentiments._Sentiments__tweet_body.values[0]\n",
        "  ui_tweet_body_txt = widgets.Text(layout=widgets.Layout(width=\"70%\"))\n",
        "  ui_tweet_body_txt.value = txt\n",
        "  ui_sentiment_lbl = widgets.Label('Predicted Sentiment: ' + pred)\n",
        "  items = [ui_tweet_body_txt, ui_sentiment_lbl, ui_sumbit]\n",
        "  box = widgets.VBox(items)\n",
        "  box.layout = widgets.Layout(align_items='center', width='auto')\n",
        "  display(box)\n",
        "  ui_cold_start_container = box\n"
      ],
      "execution_count": null,
      "outputs": [
        {
          "output_type": "display_data",
          "data": {
            "text/html": [
              ""
            ],
            "text/plain": [
              "<IPython.core.display.HTML object>"
            ]
          },
          "metadata": {
            "tags": []
          }
        },
        {
          "output_type": "display_data",
          "data": {
            "text/html": [
              ""
            ],
            "text/plain": [
              "<IPython.core.display.HTML object>"
            ]
          },
          "metadata": {
            "tags": []
          }
        }
      ]
    },
    {
      "cell_type": "code",
      "metadata": {
        "id": "0-4sDWA-VDVl",
        "colab": {
          "base_uri": "https://localhost:8080/",
          "height": 148,
          "referenced_widgets": [
            "9faf3eea116548009321a825c1dcdfa3",
            "758659de463a4890b7cb835cf95c84f4",
            "c1c45e47aa16403e91b0aff3aa222e43",
            "20161c35962a485aa54e5015904814d6",
            "fbce54953ea3426ebcb53ca27722d41c",
            "9ab36e4f95c3419c81f37fafc11428e0",
            "40d01cafdf4e41ddb987ccbc1bdf1b17",
            "e3683443a4cf4315b199220753b6ab57",
            "2e651423c6864a168efdf6a2295c1268",
            "bdbb5d8232834d259535457386709a93",
            "ea0cec11c82c481c8c05d273f0cc9fce"
          ]
        },
        "outputId": "b9c658e6-07af-4465-ab90-dcd4a9203eda"
      },
      "source": [
        "ftn_render_cold_start()"
      ],
      "execution_count": null,
      "outputs": [
        {
          "output_type": "display_data",
          "data": {
            "application/vnd.jupyter.widget-view+json": {
              "model_id": "9faf3eea116548009321a825c1dcdfa3",
              "version_minor": 0,
              "version_major": 2
            },
            "text/plain": [
              "VBox(children=(Text(value='@USAirways can we hold two seats for 11:35 flight from PHX to Las 1856 as this dela…"
            ]
          },
          "metadata": {
            "tags": []
          }
        }
      ]
    }
  ]
}
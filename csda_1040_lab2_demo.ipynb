{
  "nbformat": 4,
  "nbformat_minor": 0,
  "metadata": {
    "colab": {
      "name": "csda_1040_lab2_demo.ipynb",
      "provenance": [],
      "collapsed_sections": [],
      "include_colab_link": true
    },
    "kernelspec": {
      "name": "python3",
      "display_name": "Python 3"
    },
    "language_info": {
      "name": "python"
    },
    "accelerator": "GPU"
  },
  "cells": [
    {
      "cell_type": "markdown",
      "metadata": {
        "id": "view-in-github",
        "colab_type": "text"
      },
      "source": [
        "<a href=\"https://colab.research.google.com/github/ianwong74/Tweeter_Airline_Sentiment_Analysis/blob/main/csda_1040_lab2_demo.ipynb\" target=\"_parent\"><img src=\"https://colab.research.google.com/assets/colab-badge.svg\" alt=\"Open In Colab\"/></a>"
      ]
    },
    {
      "cell_type": "markdown",
      "metadata": {
        "id": "7zzRsOtsDEhv"
      },
      "source": [
        "# CSDA1040 - Group 5 - Lab2 - US Airline Tweets Sentiment Analysis\n",
        "** This will take up to 1 minute for initial load, Thank you for your patience*"
      ]
    },
    {
      "cell_type": "code",
      "metadata": {
        "id": "Y124pSiU4JX5"
      },
      "source": [
        "# Comment these block out before publishing to Binder, packages listed in requirements.txt will be preinstalled when building the image\n",
        "from IPython.utils import io\n",
        "\n",
        "with io.capture_output() as captured: \n",
        "  !pip install html2text\n",
        "  !pip install nltk\n",
        "  !pip install db-sqlite3\n",
        "  !pip install fastai==1.0.61\n",
        "  !pip install pytest-shutil\n",
        "  !pip install voila"
      ],
      "execution_count": 1,
      "outputs": []
    },
    {
      "cell_type": "code",
      "metadata": {
        "id": "rmQ_z-A27nCy"
      },
      "source": [
        "import sqlite3 as db\n",
        "import re\n",
        "import os\n",
        "import codecs\n",
        "import pandas as pd\n",
        "import numpy as np\n",
        "import html2text\n",
        "import matplotlib.pyplot as plt\n",
        "%matplotlib inline\n",
        "import seaborn as sns\n",
        "import random\n",
        "import shutil\n",
        "import functools\n",
        "import time\n",
        "import warnings\n",
        "import urllib.request\n",
        "warnings.filterwarnings('ignore') \n",
        "np.set_printoptions(precision=6, suppress=True)\n",
        "import random\n",
        "import ipywidgets as widgets\n",
        "from IPython.display import display\n",
        "\n",
        "import fastai\n",
        "from fastai import *\n",
        "from fastai.text import *\n",
        "from fastai.core import *\n",
        "import pickle\n",
        "from fastai.callbacks import *"
      ],
      "execution_count": 2,
      "outputs": []
    },
    {
      "cell_type": "code",
      "metadata": {
        "id": "bS96kmMW7EiS"
      },
      "source": [
        "# download pkl files from shared file from Google drive\n",
        "# CSDA 1040 Team, please update the shared file id if you want to use your train result. Otherwise you are using the team's master version.\n",
        "# sentiments1.pkl: https://drive.google.com/file/d/1--FqAwtWYYWglNrA-NZ4bd_wMjp27Rg_/view?usp=sharing\n",
        "\n",
        "from IPython.utils import io\n",
        "with io.capture_output() as captured: \n",
        "  !gdown --id '1--FqAwtWYYWglNrA-NZ4bd_wMjp27Rg_' --output pkl\n",
        "\n",
        "# tweets_main.db: https://drive.google.com/file/d/1F3wvsn2eAVT964uFit8iLqZipIBowyj7/view?usp=sharing\n",
        "from IPython.utils import io\n",
        "with io.capture_output() as captured: \n",
        "  !gdown --id '1F3wvsn2eAVT964uFit8iLqZipIBowyj7' --output tw\n",
        "cn = db.connect('tw')\n",
        "cmd = cn.cursor()"
      ],
      "execution_count": 3,
      "outputs": []
    },
    {
      "cell_type": "code",
      "metadata": {
        "colab": {
          "base_uri": "https://localhost:8080/",
          "height": 202
        },
        "id": "5woDw8YayrlS",
        "outputId": "ea3f47b5-e35f-4411-8258-10420f943edc"
      },
      "source": [
        "df = pd.read_sql('select tweet_body from tweets', cn) \n",
        "df.head()"
      ],
      "execution_count": 4,
      "outputs": [
        {
          "output_type": "execute_result",
          "data": {
            "text/html": [
              "<div>\n",
              "<style scoped>\n",
              "    .dataframe tbody tr th:only-of-type {\n",
              "        vertical-align: middle;\n",
              "    }\n",
              "\n",
              "    .dataframe tbody tr th {\n",
              "        vertical-align: top;\n",
              "    }\n",
              "\n",
              "    .dataframe thead th {\n",
              "        text-align: right;\n",
              "    }\n",
              "</style>\n",
              "<table border=\"1\" class=\"dataframe\">\n",
              "  <thead>\n",
              "    <tr style=\"text-align: right;\">\n",
              "      <th></th>\n",
              "      <th>tweet_body</th>\n",
              "    </tr>\n",
              "  </thead>\n",
              "  <tbody>\n",
              "    <tr>\n",
              "      <th>0</th>\n",
              "      <td>@VirginAmerica What @dhepburn said.</td>\n",
              "    </tr>\n",
              "    <tr>\n",
              "      <th>1</th>\n",
              "      <td>@VirginAmerica plus you've added commercials t...</td>\n",
              "    </tr>\n",
              "    <tr>\n",
              "      <th>2</th>\n",
              "      <td>@VirginAmerica I didn't today... Must mean I n...</td>\n",
              "    </tr>\n",
              "    <tr>\n",
              "      <th>3</th>\n",
              "      <td>@VirginAmerica it's really aggressive to blast...</td>\n",
              "    </tr>\n",
              "    <tr>\n",
              "      <th>4</th>\n",
              "      <td>@VirginAmerica and it's a really big bad thing...</td>\n",
              "    </tr>\n",
              "  </tbody>\n",
              "</table>\n",
              "</div>"
            ],
            "text/plain": [
              "                                          tweet_body\n",
              "0                @VirginAmerica What @dhepburn said.\n",
              "1  @VirginAmerica plus you've added commercials t...\n",
              "2  @VirginAmerica I didn't today... Must mean I n...\n",
              "3  @VirginAmerica it's really aggressive to blast...\n",
              "4  @VirginAmerica and it's a really big bad thing..."
            ]
          },
          "metadata": {
            "tags": []
          },
          "execution_count": 4
        }
      ]
    },
    {
      "cell_type": "code",
      "metadata": {
        "colab": {
          "base_uri": "https://localhost:8080/",
          "height": 70
        },
        "id": "E2Wd5AMSD2Fa",
        "outputId": "4c3e16a7-93ee-4e8c-b5b7-40ac320a4ba0"
      },
      "source": [
        "learn = load_learner('.','pkl')\n",
        "ts = pd.read_sql('select tweet_body from tweets', cn)\n",
        "n = random.randint(0,len(ts)-1)\n",
        "t = ts.loc[n]\n",
        "print(t)\n",
        "p = learn.predict(t)\n",
        "print(p)"
      ],
      "execution_count": 5,
      "outputs": [
        {
          "output_type": "display_data",
          "data": {
            "text/html": [
              ""
            ],
            "text/plain": [
              "<IPython.core.display.HTML object>"
            ]
          },
          "metadata": {
            "tags": []
          }
        },
        {
          "output_type": "display_data",
          "data": {
            "text/html": [
              ""
            ],
            "text/plain": [
              "<IPython.core.display.HTML object>"
            ]
          },
          "metadata": {
            "tags": []
          }
        },
        {
          "output_type": "stream",
          "text": [
            "tweet_body    @SouthwestAir will you please tell me if I'll ...\n",
            "Name: 6363, dtype: object\n",
            "(Category tensor(0), tensor(0), tensor([0.9413, 0.0587]))\n"
          ],
          "name": "stdout"
        }
      ]
    },
    {
      "cell_type": "code",
      "metadata": {
        "id": "8xlCBS9u44fZ"
      },
      "source": [
        "# define class & properties\n",
        "class Sentiments():\n",
        "    # class init function, load model jester_jokes (jj) from exported model from shared Google drive prepared by csda_1040_lab1.ipynb\n",
        "    def __init__(self):\n",
        "      # load mode to learner\n",
        "      self.__learn = load_learner('.','pkl')\n",
        "      # load tweets_main.db db-sqlite3 file, extract tweet_body (text)\n",
        "      self.__tweets = pd.read_sql('select tweet_body from tweets', cn)\n",
        "      n = random.randint(0,len(self.__tweets)-1)\n",
        "      self.__get_preds(n)\n",
        " \n",
        "    def __get_preds(self, n):\n",
        "      self.__tweet_body = self.__tweets.loc[n]\n",
        "      pred,_,_ = self.__learn.predict(self.__tweet_body)\n",
        "      thumbs_up = '\\U0001F44D'\n",
        "      thumbs_down = '\\U0001F44E'\n",
        "      if str(pred) == '1':\n",
        "        pred_rslt = thumbs_up\n",
        "      else: \n",
        "        pred_rslt = thumbs_down\n",
        "      self.__preds = pred_rslt\n",
        "      \n",
        "    def __next_preds(self):\n",
        "      n = random.randint(0,len(self.__tweets)-1)\n",
        "      self.__get_preds(n)\n",
        "\n"
      ],
      "execution_count": 92,
      "outputs": []
    },
    {
      "cell_type": "code",
      "metadata": {
        "colab": {
          "base_uri": "https://localhost:8080/",
          "height": 52
        },
        "id": "gRdoPBqw_GNp",
        "outputId": "14716347-be0b-41cc-cf6c-3068557e3538"
      },
      "source": [
        "sentiments = Sentiments()\n",
        "#sentiments._Sentiments__tweets.head()\n",
        "print(sentiments._Sentiments__preds)\n",
        "print(sentiments._Sentiments__tweet_body.values)"
      ],
      "execution_count": 93,
      "outputs": [
        {
          "output_type": "display_data",
          "data": {
            "text/html": [
              ""
            ],
            "text/plain": [
              "<IPython.core.display.HTML object>"
            ]
          },
          "metadata": {
            "tags": []
          }
        },
        {
          "output_type": "display_data",
          "data": {
            "text/html": [
              ""
            ],
            "text/plain": [
              "<IPython.core.display.HTML object>"
            ]
          },
          "metadata": {
            "tags": []
          }
        },
        {
          "output_type": "stream",
          "text": [
            "👎\n",
            "['@JetBlue i am here - what is your resolution?']\n"
          ],
          "name": "stdout"
        }
      ]
    },
    {
      "cell_type": "code",
      "metadata": {
        "colab": {
          "base_uri": "https://localhost:8080/"
        },
        "id": "JRq4heDAmH41",
        "outputId": "c132d171-6d33-45bd-f8f4-78d08161d35d"
      },
      "source": [
        "sentiments._Sentiments__next_preds()\n",
        "print(sentiments._Sentiments__preds)\n",
        "print(sentiments._Sentiments__tweet_body.values)"
      ],
      "execution_count": 100,
      "outputs": [
        {
          "output_type": "stream",
          "text": [
            "👎\n",
            "['@AmericanAir FYI...call stilling getting dropped.  After an hour of continuous dialing. Attempted to Cancelled Flight online but not able to. HELP!!!']\n"
          ],
          "name": "stdout"
        }
      ]
    },
    {
      "cell_type": "code",
      "metadata": {
        "id": "PFE_jt0h4ziq",
        "colab": {
          "base_uri": "https://localhost:8080/",
          "height": 238
        },
        "outputId": "17ce50fc-908e-40b6-a8be-8e034dabc59b"
      },
      "source": [
        "# create the recommender\n",
        "# from io import StringIO\n",
        "jester = Jester_Jokes()\n",
        "ui_cold_start_container = None\n",
        "ui_cold_start_sliders = None\n",
        "ui_html = None\n",
        "ui_slider = None\n",
        "ui_pred = None\n",
        "ui_confidence_bar = None\n",
        "ui_confidence_lbl = None\n",
        "ui_rated_bar = None\n",
        "ui_rated_lbl = None\n",
        "ui_sumbit = None\n",
        "ui_container = None\n",
        "\n",
        "def ftn_create_joke(joke, predicted_rating=0, show_prediction=True):\n",
        "  # creates UI to display and rate one joke and returns it\n",
        "  if(joke is not None): joke_text = jester.joke_text(joke)\n",
        "  else:                 joke_text = \"\"\n",
        "\n",
        "  #https://ipywidgets.readthedocs.io/en/latest/examples/Widget%20Styling.html\n",
        "\n",
        "  s = \"<br><div style='font-size:15px;' align='center'>\" + joke_text + \"</div><br>\" \n",
        "  html = widgets.HTML(value=s)\n",
        "  html.layout = widgets.Layout(border=\"none\", width = '80%', height='auto')\n",
        "  slider = widgets.FloatSlider(description='Your Rating:', value=0, min=-10, max=10, step=0.01, readout=True, readout_format='.2f')\n",
        "  slider.tag = joke\n",
        "  slider.style.handle_color = 'lightblue'\n",
        "  pbar = widgets.FloatSlider(description='Predicted  : ', value=predicted_rating, min=-10, max=10, step=0.01, readout=True, readout_format='.2f', style={'bar_color': 'lightblue'}, disabled=True)                   \n",
        "  items = [slider]\n",
        "  if show_prediction: items.append(pbar)\n",
        "  grid = widgets.GridBox(children=items)\n",
        "  grid.layout = widgets.Layout(grid_template_columns='auto', width='auto')\n",
        "  box = widgets.VBox([html, grid])\n",
        "  box.layout = widgets.Layout(align_items=\"center\", width='auto')\n",
        "  return box, slider\n",
        "  \n",
        "def ftn_render_cold_start():\n",
        "  # renders the cold-start UI, x jokes, 1 submit, no predictions (x number of jokes to learn before recommendation)\n",
        "  # start with 10% of the jokes\n",
        "  global ui_cold_start_container\n",
        "  global ui_cold_start_sliders\n",
        "  # list init\n",
        "  jokes = []\n",
        "  children = []\n",
        "  sliders = []\n",
        "  x = 10\n",
        "  for i in range(0,x):\n",
        "    n = random.randint(1,100)\n",
        "    jokes.append(n)\n",
        "  # add x jokes for initial rating\n",
        "  for joke in jokes:\n",
        "    container, slider = ftn_create_joke(joke=joke, show_prediction=False)\n",
        "    children.append(container)\n",
        "    sliders.append(slider)\n",
        "  btn = widgets.Button(description=\"Rate\")\n",
        "  btn.layout.margin = '20px'\n",
        "  btn.on_click(ftn_on_click_cold_start)\n",
        "  children.append(btn)\n",
        "  box = widgets.VBox(children)\n",
        "  box.layout = widgets.Layout(align_items='center', width='auto')\n",
        "  display(box)\n",
        "  ui_cold_start_container = box\n",
        "  ui_cold_start_sliders = sliders\n",
        "  \n",
        "def ftn_on_click_cold_start(btn):\n",
        "  # action on first submission \n",
        "  global ui_cold_start_container\n",
        "  global ui_container\n",
        "  for slider in ui_cold_start_sliders:\n",
        "    jester.add_rating(slider.tag, slider.value)\n",
        "  ui_cold_start_container.close()\n",
        "  del ui_cold_start_container\n",
        "  ui_container.layout.visibility = 'visible'\n",
        "  ftn_on_click_recommender(None)\n",
        "\n",
        "def ftn_render_recommender():\n",
        "  global ui_html\n",
        "  global ui_slider\n",
        "  global ui_pred\n",
        "  global ui_confidence_bar\n",
        "  global ui_confidence_lbl\n",
        "  global ui_rated_bar\n",
        "  global ui_rated_lbl\n",
        "  global ui_sumbit\n",
        "  global ui_container\n",
        "  container, ui_slider = ftn_create_joke(None, 0)\n",
        "  ui_html = container.children[0]\n",
        "  ui_slider = container.children[1].children[0]\n",
        "  ui_pred = container.children[1].children[1] \n",
        "  btn = widgets.Button(description='Rate')\n",
        "  btn.layout.margin = '20px'\n",
        "  btn.on_click(ftn_on_click_recommender)\n",
        "  ui_sumbit = btn\n",
        "  ui_confidence_bar = widgets.FloatProgress(description='Confidence Level:', value=jester.confidence, min=0, max=1, style={'bar_color': 'lightblue'})\n",
        "  ui_confidence_lbl = widgets.Label('{:.0%}'.format(jester.confidence) + ' confidence in prediction accuracy')\n",
        "  ui_rated_bar = widgets.IntProgress(description='Jokes Rated:', value=(100 - jester.unrated_jokes), min=0, max=100, style={'bar_color': 'lightblue'})\n",
        "  ui_rated_lbl = widgets.Label('You have rated ' + str(100 - jester.unrated_jokes) + '/100 jokes')\n",
        "  items = [ui_confidence_bar, ui_confidence_lbl, ui_rated_bar, ui_rated_lbl]\n",
        "  grid = widgets.GridBox(children=items)\n",
        "  grid.layout = widgets.Layout(grid_template_columns='auto', grid_gap='20px', width='auto', padding='5px', border='none')\n",
        "  box = widgets.VBox([container, btn, grid])\n",
        "  box.layout = widgets.Layout(align_items='center', padding='10px', width='auto')\n",
        "  display(box)\n",
        "  box.layout.visibility = 'hidden'\n",
        "  ui_container = box\n",
        "\n",
        "def ftn_on_click_recommender(btn):\n",
        "  global ui_html\n",
        "  global ui_slider\n",
        "  global ui_pred\n",
        "  global ui_confidence_bar\n",
        "  global ui_confidence_lbl\n",
        "  global ui_rated_bar\n",
        "  global ui_rated_lbl\n",
        "  global ui_sumbit\n",
        "  if(btn is not None): jester.add_rating(ui_slider.tag, ui_slider.value)\n",
        "  joke, pred = jester.next_joke()\n",
        "  if joke is not None: joke_text = jester.joke_text(joke) \n",
        "  else: joke_test = 'Complete rating all jokes'\n",
        "  ui_html.value = '<br><div style=''font-size:15px;'' align=''center''>' + joke_text + '</div><br>'\n",
        "  ui_slider.tag = joke\n",
        "  ui_slider.value = 0\n",
        "  if(pred is not None): ui_pred.value = pred\n",
        "  ui_confidence_bar.value = jester.confidence\n",
        "  ui_confidence_lbl.value = '{:.0%}'.format(jester.confidence) + ' confidence in prediction accuracy'\n",
        "  ui_rated_bar.value = (100 - jester.unrated_jokes)\n",
        "  ui_rated_lbl.value = 'Rated ' + str(100 - jester.unrated_jokes) + ' out of 100 jokes'\n",
        "  ui_sumbit.disabled = (joke is None)"
      ],
      "execution_count": 8,
      "outputs": [
        {
          "output_type": "error",
          "ename": "NameError",
          "evalue": "ignored",
          "traceback": [
            "\u001b[0;31m---------------------------------------------------------------------------\u001b[0m",
            "\u001b[0;31mNameError\u001b[0m                                 Traceback (most recent call last)",
            "\u001b[0;32m<ipython-input-8-2545ed245035>\u001b[0m in \u001b[0;36m<module>\u001b[0;34m()\u001b[0m\n\u001b[1;32m      1\u001b[0m \u001b[0;31m# create the recommender\u001b[0m\u001b[0;34m\u001b[0m\u001b[0;34m\u001b[0m\u001b[0;34m\u001b[0m\u001b[0m\n\u001b[1;32m      2\u001b[0m \u001b[0;31m# from io import StringIO\u001b[0m\u001b[0;34m\u001b[0m\u001b[0;34m\u001b[0m\u001b[0;34m\u001b[0m\u001b[0m\n\u001b[0;32m----> 3\u001b[0;31m \u001b[0mjester\u001b[0m \u001b[0;34m=\u001b[0m \u001b[0mJester_Jokes\u001b[0m\u001b[0;34m(\u001b[0m\u001b[0;34m)\u001b[0m\u001b[0;34m\u001b[0m\u001b[0;34m\u001b[0m\u001b[0m\n\u001b[0m\u001b[1;32m      4\u001b[0m \u001b[0mui_cold_start_container\u001b[0m \u001b[0;34m=\u001b[0m \u001b[0;32mNone\u001b[0m\u001b[0;34m\u001b[0m\u001b[0;34m\u001b[0m\u001b[0m\n\u001b[1;32m      5\u001b[0m \u001b[0mui_cold_start_sliders\u001b[0m \u001b[0;34m=\u001b[0m \u001b[0;32mNone\u001b[0m\u001b[0;34m\u001b[0m\u001b[0;34m\u001b[0m\u001b[0m\n",
            "\u001b[0;31mNameError\u001b[0m: name 'Jester_Jokes' is not defined"
          ]
        }
      ]
    },
    {
      "cell_type": "code",
      "metadata": {
        "id": "0-4sDWA-VDVl"
      },
      "source": [
        "ftn_render_cold_start()\n",
        "ftn_render_recommender()"
      ],
      "execution_count": null,
      "outputs": []
    }
  ]
}
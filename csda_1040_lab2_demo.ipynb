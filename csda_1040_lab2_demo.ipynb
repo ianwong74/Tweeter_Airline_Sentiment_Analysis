{
  "nbformat": 4,
  "nbformat_minor": 0,
  "metadata": {
    "colab": {
      "name": "Copy of Copy of Copy of csda_1040_lab2_demo.ipynb",
      "provenance": [],
      "collapsed_sections": [],
      "include_colab_link": true
    },
    "kernelspec": {
      "name": "python3",
      "display_name": "Python 3"
    },
    "language_info": {
      "name": "python"
    },
    "accelerator": "GPU",
    "widgets": {
      "application/vnd.jupyter.widget-state+json": {
        "1a13afe5586a4df1942d1d5c3f721491": {
          "model_module": "@jupyter-widgets/controls",
          "model_name": "VBoxModel",
          "state": {
            "_view_name": "VBoxView",
            "_dom_classes": [],
            "_model_name": "VBoxModel",
            "_view_module": "@jupyter-widgets/controls",
            "_model_module_version": "1.5.0",
            "_view_count": null,
            "_view_module_version": "1.5.0",
            "box_style": "",
            "layout": "IPY_MODEL_c779dca9b2a24928a84ebef6673e8477",
            "_model_module": "@jupyter-widgets/controls",
            "children": [
              "IPY_MODEL_e78bf400f1504d92b2dfe35fa66dd4ae",
              "IPY_MODEL_7949c4b4327140f19989f7af0ced7300",
              "IPY_MODEL_d34dc1e75f254958a92b44e297d6e1ee"
            ]
          }
        },
        "c779dca9b2a24928a84ebef6673e8477": {
          "model_module": "@jupyter-widgets/base",
          "model_name": "LayoutModel",
          "state": {
            "_view_name": "LayoutView",
            "grid_template_rows": null,
            "right": null,
            "justify_content": null,
            "_view_module": "@jupyter-widgets/base",
            "overflow": null,
            "_model_module_version": "1.2.0",
            "_view_count": null,
            "flex_flow": null,
            "width": "auto",
            "min_width": null,
            "border": null,
            "align_items": "center",
            "bottom": null,
            "_model_module": "@jupyter-widgets/base",
            "top": null,
            "grid_column": null,
            "overflow_y": null,
            "overflow_x": null,
            "grid_auto_flow": null,
            "grid_area": null,
            "grid_template_columns": null,
            "flex": null,
            "_model_name": "LayoutModel",
            "justify_items": null,
            "grid_row": null,
            "max_height": null,
            "align_content": null,
            "visibility": null,
            "align_self": null,
            "height": null,
            "min_height": null,
            "padding": null,
            "grid_auto_rows": null,
            "grid_gap": null,
            "max_width": null,
            "order": null,
            "_view_module_version": "1.2.0",
            "grid_template_areas": null,
            "object_position": null,
            "object_fit": null,
            "grid_auto_columns": null,
            "margin": null,
            "display": null,
            "left": null
          }
        },
        "e78bf400f1504d92b2dfe35fa66dd4ae": {
          "model_module": "@jupyter-widgets/controls",
          "model_name": "TextModel",
          "state": {
            "_view_name": "TextView",
            "style": "IPY_MODEL_7a45948ff307454da874a024b38ba628",
            "_dom_classes": [],
            "description": "",
            "_model_name": "TextModel",
            "placeholder": "​",
            "_view_module": "@jupyter-widgets/controls",
            "_model_module_version": "1.5.0",
            "value": "@united flying gla-mco in a few weeks. How long do we have to be at airport for before departure for both international and domestic? Ta",
            "_view_count": null,
            "disabled": false,
            "_view_module_version": "1.5.0",
            "continuous_update": true,
            "description_tooltip": null,
            "_model_module": "@jupyter-widgets/controls",
            "layout": "IPY_MODEL_d499b3a83402426cb796af44794e1469"
          }
        },
        "7949c4b4327140f19989f7af0ced7300": {
          "model_module": "@jupyter-widgets/controls",
          "model_name": "LabelModel",
          "state": {
            "_view_name": "LabelView",
            "style": "IPY_MODEL_50a7b9f7ce9a4c6c8f4cad9f3b54ac9d",
            "_dom_classes": [],
            "description": "",
            "_model_name": "LabelModel",
            "placeholder": "​",
            "_view_module": "@jupyter-widgets/controls",
            "_model_module_version": "1.5.0",
            "value": "Predicted Sentiment: 👎",
            "_view_count": null,
            "_view_module_version": "1.5.0",
            "description_tooltip": null,
            "_model_module": "@jupyter-widgets/controls",
            "layout": "IPY_MODEL_e098b64bb8ab4cee961d5ecd9d27bc7b"
          }
        },
        "d34dc1e75f254958a92b44e297d6e1ee": {
          "model_module": "@jupyter-widgets/controls",
          "model_name": "ButtonModel",
          "state": {
            "_view_name": "ButtonView",
            "style": "IPY_MODEL_0de2953931654da6b407bbf199a5ae0f",
            "_dom_classes": [],
            "description": "Next",
            "_model_name": "ButtonModel",
            "button_style": "",
            "_view_module": "@jupyter-widgets/controls",
            "_model_module_version": "1.5.0",
            "tooltip": "",
            "_view_count": null,
            "disabled": false,
            "_view_module_version": "1.5.0",
            "layout": "IPY_MODEL_940cba4c107145aa95751ee0a5e21ccd",
            "_model_module": "@jupyter-widgets/controls",
            "icon": ""
          }
        },
        "7a45948ff307454da874a024b38ba628": {
          "model_module": "@jupyter-widgets/controls",
          "model_name": "DescriptionStyleModel",
          "state": {
            "_view_name": "StyleView",
            "_model_name": "DescriptionStyleModel",
            "description_width": "",
            "_view_module": "@jupyter-widgets/base",
            "_model_module_version": "1.5.0",
            "_view_count": null,
            "_view_module_version": "1.2.0",
            "_model_module": "@jupyter-widgets/controls"
          }
        },
        "d499b3a83402426cb796af44794e1469": {
          "model_module": "@jupyter-widgets/base",
          "model_name": "LayoutModel",
          "state": {
            "_view_name": "LayoutView",
            "grid_template_rows": null,
            "right": null,
            "justify_content": null,
            "_view_module": "@jupyter-widgets/base",
            "overflow": null,
            "_model_module_version": "1.2.0",
            "_view_count": null,
            "flex_flow": null,
            "width": "70%",
            "min_width": null,
            "border": null,
            "align_items": null,
            "bottom": null,
            "_model_module": "@jupyter-widgets/base",
            "top": null,
            "grid_column": null,
            "overflow_y": null,
            "overflow_x": null,
            "grid_auto_flow": null,
            "grid_area": null,
            "grid_template_columns": null,
            "flex": null,
            "_model_name": "LayoutModel",
            "justify_items": null,
            "grid_row": null,
            "max_height": null,
            "align_content": null,
            "visibility": null,
            "align_self": null,
            "height": null,
            "min_height": null,
            "padding": null,
            "grid_auto_rows": null,
            "grid_gap": null,
            "max_width": null,
            "order": null,
            "_view_module_version": "1.2.0",
            "grid_template_areas": null,
            "object_position": null,
            "object_fit": null,
            "grid_auto_columns": null,
            "margin": null,
            "display": null,
            "left": null
          }
        },
        "50a7b9f7ce9a4c6c8f4cad9f3b54ac9d": {
          "model_module": "@jupyter-widgets/controls",
          "model_name": "DescriptionStyleModel",
          "state": {
            "_view_name": "StyleView",
            "_model_name": "DescriptionStyleModel",
            "description_width": "",
            "_view_module": "@jupyter-widgets/base",
            "_model_module_version": "1.5.0",
            "_view_count": null,
            "_view_module_version": "1.2.0",
            "_model_module": "@jupyter-widgets/controls"
          }
        },
        "e098b64bb8ab4cee961d5ecd9d27bc7b": {
          "model_module": "@jupyter-widgets/base",
          "model_name": "LayoutModel",
          "state": {
            "_view_name": "LayoutView",
            "grid_template_rows": null,
            "right": null,
            "justify_content": null,
            "_view_module": "@jupyter-widgets/base",
            "overflow": null,
            "_model_module_version": "1.2.0",
            "_view_count": null,
            "flex_flow": null,
            "width": null,
            "min_width": null,
            "border": null,
            "align_items": null,
            "bottom": null,
            "_model_module": "@jupyter-widgets/base",
            "top": null,
            "grid_column": null,
            "overflow_y": null,
            "overflow_x": null,
            "grid_auto_flow": null,
            "grid_area": null,
            "grid_template_columns": null,
            "flex": null,
            "_model_name": "LayoutModel",
            "justify_items": null,
            "grid_row": null,
            "max_height": null,
            "align_content": null,
            "visibility": null,
            "align_self": null,
            "height": null,
            "min_height": null,
            "padding": null,
            "grid_auto_rows": null,
            "grid_gap": null,
            "max_width": null,
            "order": null,
            "_view_module_version": "1.2.0",
            "grid_template_areas": null,
            "object_position": null,
            "object_fit": null,
            "grid_auto_columns": null,
            "margin": null,
            "display": null,
            "left": null
          }
        },
        "0de2953931654da6b407bbf199a5ae0f": {
          "model_module": "@jupyter-widgets/controls",
          "model_name": "ButtonStyleModel",
          "state": {
            "_view_name": "StyleView",
            "_model_name": "ButtonStyleModel",
            "_view_module": "@jupyter-widgets/base",
            "_model_module_version": "1.5.0",
            "_view_count": null,
            "button_color": null,
            "font_weight": "",
            "_view_module_version": "1.2.0",
            "_model_module": "@jupyter-widgets/controls"
          }
        },
        "940cba4c107145aa95751ee0a5e21ccd": {
          "model_module": "@jupyter-widgets/base",
          "model_name": "LayoutModel",
          "state": {
            "_view_name": "LayoutView",
            "grid_template_rows": null,
            "right": null,
            "justify_content": null,
            "_view_module": "@jupyter-widgets/base",
            "overflow": null,
            "_model_module_version": "1.2.0",
            "_view_count": null,
            "flex_flow": null,
            "width": null,
            "min_width": null,
            "border": null,
            "align_items": null,
            "bottom": null,
            "_model_module": "@jupyter-widgets/base",
            "top": null,
            "grid_column": null,
            "overflow_y": null,
            "overflow_x": null,
            "grid_auto_flow": null,
            "grid_area": null,
            "grid_template_columns": null,
            "flex": null,
            "_model_name": "LayoutModel",
            "justify_items": null,
            "grid_row": null,
            "max_height": null,
            "align_content": null,
            "visibility": null,
            "align_self": null,
            "height": null,
            "min_height": null,
            "padding": null,
            "grid_auto_rows": null,
            "grid_gap": null,
            "max_width": null,
            "order": null,
            "_view_module_version": "1.2.0",
            "grid_template_areas": null,
            "object_position": null,
            "object_fit": null,
            "grid_auto_columns": null,
            "margin": "20px",
            "display": null,
            "left": null
          }
        },
        "67a244288d0349a6ba34b30c43ed1bfe": {
          "model_module": "@jupyter-widgets/controls",
          "model_name": "VBoxModel",
          "state": {
            "_view_name": "VBoxView",
            "_dom_classes": [],
            "_model_name": "VBoxModel",
            "_view_module": "@jupyter-widgets/controls",
            "_model_module_version": "1.5.0",
            "_view_count": null,
            "_view_module_version": "1.5.0",
            "box_style": "",
            "layout": "IPY_MODEL_b1f174911d3a4b6689a1cf465443563d",
            "_model_module": "@jupyter-widgets/controls",
            "children": [
              "IPY_MODEL_16c1f5ab197f47649ea22fc9e3e08bdf",
              "IPY_MODEL_2b9e64642cd145eca8548a1486a7cc50",
              "IPY_MODEL_d34dc1e75f254958a92b44e297d6e1ee"
            ]
          }
        },
        "b1f174911d3a4b6689a1cf465443563d": {
          "model_module": "@jupyter-widgets/base",
          "model_name": "LayoutModel",
          "state": {
            "_view_name": "LayoutView",
            "grid_template_rows": null,
            "right": null,
            "justify_content": null,
            "_view_module": "@jupyter-widgets/base",
            "overflow": null,
            "_model_module_version": "1.2.0",
            "_view_count": null,
            "flex_flow": null,
            "width": "auto",
            "min_width": null,
            "border": null,
            "align_items": "center",
            "bottom": null,
            "_model_module": "@jupyter-widgets/base",
            "top": null,
            "grid_column": null,
            "overflow_y": null,
            "overflow_x": null,
            "grid_auto_flow": null,
            "grid_area": null,
            "grid_template_columns": null,
            "flex": null,
            "_model_name": "LayoutModel",
            "justify_items": null,
            "grid_row": null,
            "max_height": null,
            "align_content": null,
            "visibility": null,
            "align_self": null,
            "height": null,
            "min_height": null,
            "padding": null,
            "grid_auto_rows": null,
            "grid_gap": null,
            "max_width": null,
            "order": null,
            "_view_module_version": "1.2.0",
            "grid_template_areas": null,
            "object_position": null,
            "object_fit": null,
            "grid_auto_columns": null,
            "margin": null,
            "display": null,
            "left": null
          }
        },
        "16c1f5ab197f47649ea22fc9e3e08bdf": {
          "model_module": "@jupyter-widgets/controls",
          "model_name": "TextModel",
          "state": {
            "_view_name": "TextView",
            "style": "IPY_MODEL_7dd25807c72448f183790e1474d296b3",
            "_dom_classes": [],
            "description": "",
            "_model_name": "TextModel",
            "placeholder": "​",
            "_view_module": "@jupyter-widgets/controls",
            "_model_module_version": "1.5.0",
            "value": "@AmericanAir don't worry you won't steal my money again",
            "_view_count": null,
            "disabled": false,
            "_view_module_version": "1.5.0",
            "continuous_update": true,
            "description_tooltip": null,
            "_model_module": "@jupyter-widgets/controls",
            "layout": "IPY_MODEL_fe40b3e5141d448ea8722b4f83f261bf"
          }
        },
        "2b9e64642cd145eca8548a1486a7cc50": {
          "model_module": "@jupyter-widgets/controls",
          "model_name": "LabelModel",
          "state": {
            "_view_name": "LabelView",
            "style": "IPY_MODEL_0fe5ec995ca64371ae4d7cdeb181d30e",
            "_dom_classes": [],
            "description": "",
            "_model_name": "LabelModel",
            "placeholder": "​",
            "_view_module": "@jupyter-widgets/controls",
            "_model_module_version": "1.5.0",
            "value": "Predicted Sentiment: 👎",
            "_view_count": null,
            "_view_module_version": "1.5.0",
            "description_tooltip": null,
            "_model_module": "@jupyter-widgets/controls",
            "layout": "IPY_MODEL_021e935fdb954a608720ccc9d4b41213"
          }
        },
        "7dd25807c72448f183790e1474d296b3": {
          "model_module": "@jupyter-widgets/controls",
          "model_name": "DescriptionStyleModel",
          "state": {
            "_view_name": "StyleView",
            "_model_name": "DescriptionStyleModel",
            "description_width": "",
            "_view_module": "@jupyter-widgets/base",
            "_model_module_version": "1.5.0",
            "_view_count": null,
            "_view_module_version": "1.2.0",
            "_model_module": "@jupyter-widgets/controls"
          }
        },
        "fe40b3e5141d448ea8722b4f83f261bf": {
          "model_module": "@jupyter-widgets/base",
          "model_name": "LayoutModel",
          "state": {
            "_view_name": "LayoutView",
            "grid_template_rows": null,
            "right": null,
            "justify_content": null,
            "_view_module": "@jupyter-widgets/base",
            "overflow": null,
            "_model_module_version": "1.2.0",
            "_view_count": null,
            "flex_flow": null,
            "width": "70%",
            "min_width": null,
            "border": null,
            "align_items": null,
            "bottom": null,
            "_model_module": "@jupyter-widgets/base",
            "top": null,
            "grid_column": null,
            "overflow_y": null,
            "overflow_x": null,
            "grid_auto_flow": null,
            "grid_area": null,
            "grid_template_columns": null,
            "flex": null,
            "_model_name": "LayoutModel",
            "justify_items": null,
            "grid_row": null,
            "max_height": null,
            "align_content": null,
            "visibility": null,
            "align_self": null,
            "height": null,
            "min_height": null,
            "padding": null,
            "grid_auto_rows": null,
            "grid_gap": null,
            "max_width": null,
            "order": null,
            "_view_module_version": "1.2.0",
            "grid_template_areas": null,
            "object_position": null,
            "object_fit": null,
            "grid_auto_columns": null,
            "margin": null,
            "display": null,
            "left": null
          }
        },
        "0fe5ec995ca64371ae4d7cdeb181d30e": {
          "model_module": "@jupyter-widgets/controls",
          "model_name": "DescriptionStyleModel",
          "state": {
            "_view_name": "StyleView",
            "_model_name": "DescriptionStyleModel",
            "description_width": "",
            "_view_module": "@jupyter-widgets/base",
            "_model_module_version": "1.5.0",
            "_view_count": null,
            "_view_module_version": "1.2.0",
            "_model_module": "@jupyter-widgets/controls"
          }
        },
        "021e935fdb954a608720ccc9d4b41213": {
          "model_module": "@jupyter-widgets/base",
          "model_name": "LayoutModel",
          "state": {
            "_view_name": "LayoutView",
            "grid_template_rows": null,
            "right": null,
            "justify_content": null,
            "_view_module": "@jupyter-widgets/base",
            "overflow": null,
            "_model_module_version": "1.2.0",
            "_view_count": null,
            "flex_flow": null,
            "width": null,
            "min_width": null,
            "border": null,
            "align_items": null,
            "bottom": null,
            "_model_module": "@jupyter-widgets/base",
            "top": null,
            "grid_column": null,
            "overflow_y": null,
            "overflow_x": null,
            "grid_auto_flow": null,
            "grid_area": null,
            "grid_template_columns": null,
            "flex": null,
            "_model_name": "LayoutModel",
            "justify_items": null,
            "grid_row": null,
            "max_height": null,
            "align_content": null,
            "visibility": null,
            "align_self": null,
            "height": null,
            "min_height": null,
            "padding": null,
            "grid_auto_rows": null,
            "grid_gap": null,
            "max_width": null,
            "order": null,
            "_view_module_version": "1.2.0",
            "grid_template_areas": null,
            "object_position": null,
            "object_fit": null,
            "grid_auto_columns": null,
            "margin": null,
            "display": null,
            "left": null
          }
        },
        "f22ef6af1113489c967a0ddba1518920": {
          "model_module": "@jupyter-widgets/controls",
          "model_name": "VBoxModel",
          "state": {
            "_view_name": "VBoxView",
            "_dom_classes": [],
            "_model_name": "VBoxModel",
            "_view_module": "@jupyter-widgets/controls",
            "_model_module_version": "1.5.0",
            "_view_count": null,
            "_view_module_version": "1.5.0",
            "box_style": "",
            "layout": "IPY_MODEL_90f46e5b0f90451aaa38d88764de964f",
            "_model_module": "@jupyter-widgets/controls",
            "children": [
              "IPY_MODEL_5cbaa6ce89294b1d846f2209636e9e32",
              "IPY_MODEL_b803356f6a9a4e1584b1f619a0929206",
              "IPY_MODEL_d34dc1e75f254958a92b44e297d6e1ee"
            ]
          }
        },
        "90f46e5b0f90451aaa38d88764de964f": {
          "model_module": "@jupyter-widgets/base",
          "model_name": "LayoutModel",
          "state": {
            "_view_name": "LayoutView",
            "grid_template_rows": null,
            "right": null,
            "justify_content": null,
            "_view_module": "@jupyter-widgets/base",
            "overflow": null,
            "_model_module_version": "1.2.0",
            "_view_count": null,
            "flex_flow": null,
            "width": "auto",
            "min_width": null,
            "border": null,
            "align_items": "center",
            "bottom": null,
            "_model_module": "@jupyter-widgets/base",
            "top": null,
            "grid_column": null,
            "overflow_y": null,
            "overflow_x": null,
            "grid_auto_flow": null,
            "grid_area": null,
            "grid_template_columns": null,
            "flex": null,
            "_model_name": "LayoutModel",
            "justify_items": null,
            "grid_row": null,
            "max_height": null,
            "align_content": null,
            "visibility": null,
            "align_self": null,
            "height": null,
            "min_height": null,
            "padding": null,
            "grid_auto_rows": null,
            "grid_gap": null,
            "max_width": null,
            "order": null,
            "_view_module_version": "1.2.0",
            "grid_template_areas": null,
            "object_position": null,
            "object_fit": null,
            "grid_auto_columns": null,
            "margin": null,
            "display": null,
            "left": null
          }
        },
        "5cbaa6ce89294b1d846f2209636e9e32": {
          "model_module": "@jupyter-widgets/controls",
          "model_name": "TextModel",
          "state": {
            "_view_name": "TextView",
            "style": "IPY_MODEL_178edc6260b949d5822d0210ef834569",
            "_dom_classes": [],
            "description": "",
            "_model_name": "TextModel",
            "placeholder": "​",
            "_view_module": "@jupyter-widgets/controls",
            "_model_module_version": "1.5.0",
            "value": "@JetBlue Im just saying change can be amazing, like Miami. 😉",
            "_view_count": null,
            "disabled": false,
            "_view_module_version": "1.5.0",
            "continuous_update": true,
            "description_tooltip": null,
            "_model_module": "@jupyter-widgets/controls",
            "layout": "IPY_MODEL_40f09f2547f8475797598d2b9da4ecfb"
          }
        },
        "b803356f6a9a4e1584b1f619a0929206": {
          "model_module": "@jupyter-widgets/controls",
          "model_name": "LabelModel",
          "state": {
            "_view_name": "LabelView",
            "style": "IPY_MODEL_957d6236c86d44ac9c80cdc8272b2cfe",
            "_dom_classes": [],
            "description": "",
            "_model_name": "LabelModel",
            "placeholder": "​",
            "_view_module": "@jupyter-widgets/controls",
            "_model_module_version": "1.5.0",
            "value": "Predicted Sentiment: 👍",
            "_view_count": null,
            "_view_module_version": "1.5.0",
            "description_tooltip": null,
            "_model_module": "@jupyter-widgets/controls",
            "layout": "IPY_MODEL_d729fb1349b34ce6af0a1f14e573823c"
          }
        },
        "178edc6260b949d5822d0210ef834569": {
          "model_module": "@jupyter-widgets/controls",
          "model_name": "DescriptionStyleModel",
          "state": {
            "_view_name": "StyleView",
            "_model_name": "DescriptionStyleModel",
            "description_width": "",
            "_view_module": "@jupyter-widgets/base",
            "_model_module_version": "1.5.0",
            "_view_count": null,
            "_view_module_version": "1.2.0",
            "_model_module": "@jupyter-widgets/controls"
          }
        },
        "40f09f2547f8475797598d2b9da4ecfb": {
          "model_module": "@jupyter-widgets/base",
          "model_name": "LayoutModel",
          "state": {
            "_view_name": "LayoutView",
            "grid_template_rows": null,
            "right": null,
            "justify_content": null,
            "_view_module": "@jupyter-widgets/base",
            "overflow": null,
            "_model_module_version": "1.2.0",
            "_view_count": null,
            "flex_flow": null,
            "width": "70%",
            "min_width": null,
            "border": null,
            "align_items": null,
            "bottom": null,
            "_model_module": "@jupyter-widgets/base",
            "top": null,
            "grid_column": null,
            "overflow_y": null,
            "overflow_x": null,
            "grid_auto_flow": null,
            "grid_area": null,
            "grid_template_columns": null,
            "flex": null,
            "_model_name": "LayoutModel",
            "justify_items": null,
            "grid_row": null,
            "max_height": null,
            "align_content": null,
            "visibility": null,
            "align_self": null,
            "height": null,
            "min_height": null,
            "padding": null,
            "grid_auto_rows": null,
            "grid_gap": null,
            "max_width": null,
            "order": null,
            "_view_module_version": "1.2.0",
            "grid_template_areas": null,
            "object_position": null,
            "object_fit": null,
            "grid_auto_columns": null,
            "margin": null,
            "display": null,
            "left": null
          }
        },
        "957d6236c86d44ac9c80cdc8272b2cfe": {
          "model_module": "@jupyter-widgets/controls",
          "model_name": "DescriptionStyleModel",
          "state": {
            "_view_name": "StyleView",
            "_model_name": "DescriptionStyleModel",
            "description_width": "",
            "_view_module": "@jupyter-widgets/base",
            "_model_module_version": "1.5.0",
            "_view_count": null,
            "_view_module_version": "1.2.0",
            "_model_module": "@jupyter-widgets/controls"
          }
        },
        "d729fb1349b34ce6af0a1f14e573823c": {
          "model_module": "@jupyter-widgets/base",
          "model_name": "LayoutModel",
          "state": {
            "_view_name": "LayoutView",
            "grid_template_rows": null,
            "right": null,
            "justify_content": null,
            "_view_module": "@jupyter-widgets/base",
            "overflow": null,
            "_model_module_version": "1.2.0",
            "_view_count": null,
            "flex_flow": null,
            "width": null,
            "min_width": null,
            "border": null,
            "align_items": null,
            "bottom": null,
            "_model_module": "@jupyter-widgets/base",
            "top": null,
            "grid_column": null,
            "overflow_y": null,
            "overflow_x": null,
            "grid_auto_flow": null,
            "grid_area": null,
            "grid_template_columns": null,
            "flex": null,
            "_model_name": "LayoutModel",
            "justify_items": null,
            "grid_row": null,
            "max_height": null,
            "align_content": null,
            "visibility": null,
            "align_self": null,
            "height": null,
            "min_height": null,
            "padding": null,
            "grid_auto_rows": null,
            "grid_gap": null,
            "max_width": null,
            "order": null,
            "_view_module_version": "1.2.0",
            "grid_template_areas": null,
            "object_position": null,
            "object_fit": null,
            "grid_auto_columns": null,
            "margin": null,
            "display": null,
            "left": null
          }
        },
        "ebeafa179aa744de9212458d1a936f82": {
          "model_module": "@jupyter-widgets/controls",
          "model_name": "VBoxModel",
          "state": {
            "_view_name": "VBoxView",
            "_dom_classes": [],
            "_model_name": "VBoxModel",
            "_view_module": "@jupyter-widgets/controls",
            "_model_module_version": "1.5.0",
            "_view_count": null,
            "_view_module_version": "1.5.0",
            "box_style": "",
            "layout": "IPY_MODEL_cf058ca408554f46824ff3ea8b93d229",
            "_model_module": "@jupyter-widgets/controls",
            "children": [
              "IPY_MODEL_a143707698104f539213a2a40ebd358f",
              "IPY_MODEL_baa7f18c3d71412ba0bd7e49242d9c74",
              "IPY_MODEL_d34dc1e75f254958a92b44e297d6e1ee"
            ]
          }
        },
        "cf058ca408554f46824ff3ea8b93d229": {
          "model_module": "@jupyter-widgets/base",
          "model_name": "LayoutModel",
          "state": {
            "_view_name": "LayoutView",
            "grid_template_rows": null,
            "right": null,
            "justify_content": null,
            "_view_module": "@jupyter-widgets/base",
            "overflow": null,
            "_model_module_version": "1.2.0",
            "_view_count": null,
            "flex_flow": null,
            "width": "auto",
            "min_width": null,
            "border": null,
            "align_items": "center",
            "bottom": null,
            "_model_module": "@jupyter-widgets/base",
            "top": null,
            "grid_column": null,
            "overflow_y": null,
            "overflow_x": null,
            "grid_auto_flow": null,
            "grid_area": null,
            "grid_template_columns": null,
            "flex": null,
            "_model_name": "LayoutModel",
            "justify_items": null,
            "grid_row": null,
            "max_height": null,
            "align_content": null,
            "visibility": null,
            "align_self": null,
            "height": null,
            "min_height": null,
            "padding": null,
            "grid_auto_rows": null,
            "grid_gap": null,
            "max_width": null,
            "order": null,
            "_view_module_version": "1.2.0",
            "grid_template_areas": null,
            "object_position": null,
            "object_fit": null,
            "grid_auto_columns": null,
            "margin": null,
            "display": null,
            "left": null
          }
        },
        "a143707698104f539213a2a40ebd358f": {
          "model_module": "@jupyter-widgets/controls",
          "model_name": "TextModel",
          "state": {
            "_view_name": "TextView",
            "style": "IPY_MODEL_9043dd3ca9d849d3b2901a021ac84d97",
            "_dom_classes": [],
            "description": "",
            "_model_name": "TextModel",
            "placeholder": "​",
            "_view_module": "@jupyter-widgets/controls",
            "_model_module_version": "1.5.0",
            "value": "@JetBlue Oh I will. #Disney bound. #workhard #playsoon",
            "_view_count": null,
            "disabled": false,
            "_view_module_version": "1.5.0",
            "continuous_update": true,
            "description_tooltip": null,
            "_model_module": "@jupyter-widgets/controls",
            "layout": "IPY_MODEL_6ef47b6e8b63488baa517560be517186"
          }
        },
        "baa7f18c3d71412ba0bd7e49242d9c74": {
          "model_module": "@jupyter-widgets/controls",
          "model_name": "LabelModel",
          "state": {
            "_view_name": "LabelView",
            "style": "IPY_MODEL_e325cb217d70472ab579975525663ec8",
            "_dom_classes": [],
            "description": "",
            "_model_name": "LabelModel",
            "placeholder": "​",
            "_view_module": "@jupyter-widgets/controls",
            "_model_module_version": "1.5.0",
            "value": "Predicted Sentiment: 👎",
            "_view_count": null,
            "_view_module_version": "1.5.0",
            "description_tooltip": null,
            "_model_module": "@jupyter-widgets/controls",
            "layout": "IPY_MODEL_776d983349784102bc47efa13d3648a9"
          }
        },
        "9043dd3ca9d849d3b2901a021ac84d97": {
          "model_module": "@jupyter-widgets/controls",
          "model_name": "DescriptionStyleModel",
          "state": {
            "_view_name": "StyleView",
            "_model_name": "DescriptionStyleModel",
            "description_width": "",
            "_view_module": "@jupyter-widgets/base",
            "_model_module_version": "1.5.0",
            "_view_count": null,
            "_view_module_version": "1.2.0",
            "_model_module": "@jupyter-widgets/controls"
          }
        },
        "6ef47b6e8b63488baa517560be517186": {
          "model_module": "@jupyter-widgets/base",
          "model_name": "LayoutModel",
          "state": {
            "_view_name": "LayoutView",
            "grid_template_rows": null,
            "right": null,
            "justify_content": null,
            "_view_module": "@jupyter-widgets/base",
            "overflow": null,
            "_model_module_version": "1.2.0",
            "_view_count": null,
            "flex_flow": null,
            "width": "70%",
            "min_width": null,
            "border": null,
            "align_items": null,
            "bottom": null,
            "_model_module": "@jupyter-widgets/base",
            "top": null,
            "grid_column": null,
            "overflow_y": null,
            "overflow_x": null,
            "grid_auto_flow": null,
            "grid_area": null,
            "grid_template_columns": null,
            "flex": null,
            "_model_name": "LayoutModel",
            "justify_items": null,
            "grid_row": null,
            "max_height": null,
            "align_content": null,
            "visibility": null,
            "align_self": null,
            "height": null,
            "min_height": null,
            "padding": null,
            "grid_auto_rows": null,
            "grid_gap": null,
            "max_width": null,
            "order": null,
            "_view_module_version": "1.2.0",
            "grid_template_areas": null,
            "object_position": null,
            "object_fit": null,
            "grid_auto_columns": null,
            "margin": null,
            "display": null,
            "left": null
          }
        },
        "e325cb217d70472ab579975525663ec8": {
          "model_module": "@jupyter-widgets/controls",
          "model_name": "DescriptionStyleModel",
          "state": {
            "_view_name": "StyleView",
            "_model_name": "DescriptionStyleModel",
            "description_width": "",
            "_view_module": "@jupyter-widgets/base",
            "_model_module_version": "1.5.0",
            "_view_count": null,
            "_view_module_version": "1.2.0",
            "_model_module": "@jupyter-widgets/controls"
          }
        },
        "776d983349784102bc47efa13d3648a9": {
          "model_module": "@jupyter-widgets/base",
          "model_name": "LayoutModel",
          "state": {
            "_view_name": "LayoutView",
            "grid_template_rows": null,
            "right": null,
            "justify_content": null,
            "_view_module": "@jupyter-widgets/base",
            "overflow": null,
            "_model_module_version": "1.2.0",
            "_view_count": null,
            "flex_flow": null,
            "width": null,
            "min_width": null,
            "border": null,
            "align_items": null,
            "bottom": null,
            "_model_module": "@jupyter-widgets/base",
            "top": null,
            "grid_column": null,
            "overflow_y": null,
            "overflow_x": null,
            "grid_auto_flow": null,
            "grid_area": null,
            "grid_template_columns": null,
            "flex": null,
            "_model_name": "LayoutModel",
            "justify_items": null,
            "grid_row": null,
            "max_height": null,
            "align_content": null,
            "visibility": null,
            "align_self": null,
            "height": null,
            "min_height": null,
            "padding": null,
            "grid_auto_rows": null,
            "grid_gap": null,
            "max_width": null,
            "order": null,
            "_view_module_version": "1.2.0",
            "grid_template_areas": null,
            "object_position": null,
            "object_fit": null,
            "grid_auto_columns": null,
            "margin": null,
            "display": null,
            "left": null
          }
        }
      }
    }
  },
  "cells": [
    {
      "cell_type": "markdown",
      "metadata": {
        "id": "view-in-github",
        "colab_type": "text"
      },
      "source": [
        "<a href=\"https://colab.research.google.com/github/ianwong74/Tweeter_Airline_Sentiment_Analysis/blob/main/csda_1040_lab2_demo.ipynb\" target=\"_parent\"><img src=\"https://colab.research.google.com/assets/colab-badge.svg\" alt=\"Open In Colab\"/></a>"
      ]
    },
    {
      "cell_type": "markdown",
      "metadata": {
        "id": "7zzRsOtsDEhv"
      },
      "source": [
        "# CSDA1040 - Group 5 - Lab2 - US Airline Tweets Sentiment Analysis\n",
        "** This will take up to 1 minute for initial load, Thank you for your patience*"
      ]
    },
    {
      "cell_type": "code",
      "metadata": {
        "id": "Y124pSiU4JX5"
      },
      "source": [
        "# # Comment these block out before publishing to Binder, packages listed in requirements.txt will be preinstalled when building the image\n",
        "# from IPython.utils import io\n",
        "# with io.capture_output() as captured:  \n",
        "#   !pip install html2text\n",
        "#   !pip install nltk\n",
        "#   !pip install db-sqlite3\n",
        "#   !pip install pytest-shutil\n",
        "#   !pip install spacy==2.3.5\n",
        "#   !pip install Flask==1.0.2\n",
        "#   !pip install numpy==1.16.3\n",
        "#   !pip install scikit-learn==0.20.2\n",
        "#   !pip install fastai==1.0.61\n",
        "#   #!pip install torch==1.5.0\n",
        "#   !pip install pillow~=6.0\n",
        "#   !pip install python-multipart==0.0.5\n",
        "#   !pip install voila"
      ],
      "execution_count": 1,
      "outputs": []
    },
    {
      "cell_type": "code",
      "metadata": {
        "id": "rmQ_z-A27nCy"
      },
      "source": [
        "import sqlite3 as db\n",
        "import re\n",
        "import os\n",
        "import codecs\n",
        "import pandas as pd\n",
        "import numpy as np\n",
        "import html2text\n",
        "#import matplotlib.pyplot as plt\n",
        "#%matplotlib inline\n",
        "#import seaborn as sns\n",
        "import random\n",
        "#import shutil\n",
        "#import functools\n",
        "#import time\n",
        "import warnings\n",
        "import urllib.request\n",
        "warnings.filterwarnings('ignore') \n",
        "np.set_printoptions(precision=6, suppress=True)\n",
        "import ipywidgets as widgets\n",
        "from IPython.display import display\n",
        "\n",
        "import fastai\n",
        "from fastai import *\n",
        "from fastai.text import *\n",
        "from fastai.core import *\n",
        "import pickle\n",
        "from fastai.callbacks import *"
      ],
      "execution_count": 4,
      "outputs": []
    },
    {
      "cell_type": "code",
      "metadata": {
        "id": "bS96kmMW7EiS"
      },
      "source": [
        "# download pkl files from shared file from Google drive\n",
        "# CSDA 1040 Team, please update the shared file id if you want to use your train result. Otherwise you are using the team's master version.\n",
        "# sentiments1.pkl: https://drive.google.com/file/d/1--FqAwtWYYWglNrA-NZ4bd_wMjp27Rg_/view?usp=sharing\n",
        "\n",
        "from IPython.utils import io\n",
        "with io.capture_output() as captured: \n",
        "  !gdown --id '1--FqAwtWYYWglNrA-NZ4bd_wMjp27Rg_' --output pkl\n",
        "\n",
        "# tweets_main.db: https://drive.google.com/file/d/1F3wvsn2eAVT964uFit8iLqZipIBowyj7/view?usp=sharing\n",
        "from IPython.utils import io\n",
        "with io.capture_output() as captured: \n",
        "  !gdown --id '1F3wvsn2eAVT964uFit8iLqZipIBowyj7' --output tw\n",
        "cn = db.connect('tw')\n",
        "cmd = cn.cursor()"
      ],
      "execution_count": 5,
      "outputs": []
    },
    {
      "cell_type": "code",
      "metadata": {
        "id": "5woDw8YayrlS"
      },
      "source": [
        "#df = pd.read_sql('select tweet_body from tweets', cn) \n",
        "#df.head()"
      ],
      "execution_count": 6,
      "outputs": []
    },
    {
      "cell_type": "code",
      "metadata": {
        "id": "E2Wd5AMSD2Fa"
      },
      "source": [
        "#learn = load_learner('.','pkl')\n",
        "#ts = pd.read_sql('select tweet_body from tweets', cn)\n",
        "#n = random.randint(0,len(ts)-1)\n",
        "#t = ts.loc[n]\n",
        "#print(t)\n",
        "#p = learn.predict(t)\n",
        "#print(p)"
      ],
      "execution_count": 7,
      "outputs": []
    },
    {
      "cell_type": "code",
      "metadata": {
        "id": "8xlCBS9u44fZ"
      },
      "source": [
        "# define class & properties\n",
        "class Sentiments():\n",
        "    # class init function, load model jester_jokes (jj) from exported model from shared Google drive prepared by csda_1040_lab1.ipynb\n",
        "    def __init__(self):\n",
        "      # load mode to learner\n",
        "      self.__learn = load_learner('.','pkl')\n",
        "      # load tweets_main.db db-sqlite3 file, extract tweet_body (text)\n",
        "      self.__tweets = pd.read_sql('select tweet_body from tweets', cn)\n",
        "      n = random.randint(0,len(self.__tweets)-1)\n",
        "      self.__get_preds(n)\n",
        " \n",
        "    def __get_preds(self, n):\n",
        "      self.__tweet_body = self.__tweets.loc[n]\n",
        "      pred,_,_ = self.__learn.predict(self.__tweet_body)\n",
        "      thumbs_up = '\\U0001F44D'\n",
        "      thumbs_down = '\\U0001F44E'\n",
        "      if str(pred) == '1':\n",
        "        pred_rslt = thumbs_up\n",
        "      else: \n",
        "        pred_rslt = thumbs_down\n",
        "      self.__preds = pred_rslt\n",
        "      \n",
        "    def __next_preds(self):\n",
        "      n = random.randint(0,len(self.__tweets)-1)\n",
        "      self.__get_preds(n)\n",
        "\n"
      ],
      "execution_count": 8,
      "outputs": []
    },
    {
      "cell_type": "code",
      "metadata": {
        "id": "gRdoPBqw_GNp"
      },
      "source": [
        "#sentiments = Sentiments()\n",
        "#sentiments._Sentiments__tweets.head()\n",
        "#print(sentiments._Sentiments__preds)\n",
        "#print(sentiments._Sentiments__tweet_body.values)\n",
        "#x = sentiments._Sentiments__tweet_body.values[0]\n",
        "#print(np.fromstring(x, dtype=str))\n",
        "#x"
      ],
      "execution_count": 9,
      "outputs": []
    },
    {
      "cell_type": "code",
      "metadata": {
        "id": "JRq4heDAmH41"
      },
      "source": [
        "#sentiments._Sentiments__next_preds()\n",
        "#print(sentiments._Sentiments__preds)\n",
        "#print(sentiments._Sentiments__tweet_body.values)"
      ],
      "execution_count": 10,
      "outputs": []
    },
    {
      "cell_type": "code",
      "metadata": {
        "id": "PFE_jt0h4ziq",
        "outputId": "bcb891c1-a5a0-4f86-c52f-ff701ae7d5a9",
        "colab": {
          "base_uri": "https://localhost:8080/",
          "height": 17
        }
      },
      "source": [
        "# create the recommender\n",
        "# from io import StringIO\n",
        "sentiments = Sentiments()\n",
        "ui_html = None\n",
        "ui_slider = None\n",
        "ui_pred = None\n",
        "ui_tweet_body = None\n",
        "ui_sumbit = None\n",
        "ui_container = None\n",
        "\n",
        "\n",
        "def ftn_render_cold_start():\n",
        "  # renders the cold-start UI, load first tweet and sentiment\n",
        "  global ui_cold_start_container\n",
        "  global ui_sentiment_lbl\n",
        "  global ui_tweet_body_txt\n",
        "  global ui_sumbit\n",
        "  pred = sentiments._Sentiments__preds\n",
        "  txt = sentiments._Sentiments__tweet_body.values[0]\n",
        "  ui_tweet_body_txt = widgets.Text(layout=widgets.Layout(width=\"70%\"))\n",
        "  ui_tweet_body_txt.value = txt\n",
        "  ui_sentiment_lbl = widgets.Label('Predicted Sentiment: ' + pred)\n",
        "  ui_sumbit = widgets.Button(description=\"Next\")\n",
        "  ui_sumbit.layout.margin = '20px'\n",
        "  ui_sumbit.on_click(ftn_on_click)\n",
        "  items = [ui_tweet_body_txt, ui_sentiment_lbl, ui_sumbit]\n",
        "  box = widgets.VBox(items)\n",
        "  box.layout = widgets.Layout(align_items='center', width='auto')\n",
        "  display(box)\n",
        "  ui_cold_start_container = box\n",
        "\n",
        "def ftn_on_click(self):\n",
        "  global ui_cold_start_container\n",
        "  global ui_sentiment_lbl\n",
        "  global ui_tweet_body_txt\n",
        "  global ui_sumbit\n",
        "  sentiments._Sentiments__next_preds()\n",
        "  pred = sentiments._Sentiments__preds\n",
        "  txt = sentiments._Sentiments__tweet_body.values[0]\n",
        "  ui_tweet_body_txt = widgets.Text(layout=widgets.Layout(width=\"70%\"))\n",
        "  ui_tweet_body_txt.value = txt\n",
        "  ui_sentiment_lbl = widgets.Label('Predicted Sentiment: ' + pred)\n",
        "  items = [ui_tweet_body_txt, ui_sentiment_lbl, ui_sumbit]\n",
        "  box = widgets.VBox(items)\n",
        "  box.layout = widgets.Layout(align_items='center', width='auto')\n",
        "  display(box)\n",
        "  ui_cold_start_container = box\n"
      ],
      "execution_count": 11,
      "outputs": [
        {
          "output_type": "display_data",
          "data": {
            "text/html": [
              ""
            ],
            "text/plain": [
              "<IPython.core.display.HTML object>"
            ]
          },
          "metadata": {
            "tags": []
          }
        },
        {
          "output_type": "display_data",
          "data": {
            "text/html": [
              ""
            ],
            "text/plain": [
              "<IPython.core.display.HTML object>"
            ]
          },
          "metadata": {
            "tags": []
          }
        }
      ]
    },
    {
      "cell_type": "code",
      "metadata": {
        "id": "0-4sDWA-VDVl",
        "outputId": "c7988f20-a5d4-4ccd-d763-001b01292678",
        "colab": {
          "base_uri": "https://localhost:8080/",
          "height": 544,
          "referenced_widgets": [
            "1a13afe5586a4df1942d1d5c3f721491",
            "c779dca9b2a24928a84ebef6673e8477",
            "e78bf400f1504d92b2dfe35fa66dd4ae",
            "7949c4b4327140f19989f7af0ced7300",
            "d34dc1e75f254958a92b44e297d6e1ee",
            "7a45948ff307454da874a024b38ba628",
            "d499b3a83402426cb796af44794e1469",
            "50a7b9f7ce9a4c6c8f4cad9f3b54ac9d",
            "e098b64bb8ab4cee961d5ecd9d27bc7b",
            "0de2953931654da6b407bbf199a5ae0f",
            "940cba4c107145aa95751ee0a5e21ccd",
            "67a244288d0349a6ba34b30c43ed1bfe",
            "b1f174911d3a4b6689a1cf465443563d",
            "16c1f5ab197f47649ea22fc9e3e08bdf",
            "2b9e64642cd145eca8548a1486a7cc50",
            "7dd25807c72448f183790e1474d296b3",
            "fe40b3e5141d448ea8722b4f83f261bf",
            "0fe5ec995ca64371ae4d7cdeb181d30e",
            "021e935fdb954a608720ccc9d4b41213",
            "f22ef6af1113489c967a0ddba1518920",
            "90f46e5b0f90451aaa38d88764de964f",
            "5cbaa6ce89294b1d846f2209636e9e32",
            "b803356f6a9a4e1584b1f619a0929206",
            "178edc6260b949d5822d0210ef834569",
            "40f09f2547f8475797598d2b9da4ecfb",
            "957d6236c86d44ac9c80cdc8272b2cfe",
            "d729fb1349b34ce6af0a1f14e573823c",
            "ebeafa179aa744de9212458d1a936f82",
            "cf058ca408554f46824ff3ea8b93d229",
            "a143707698104f539213a2a40ebd358f",
            "baa7f18c3d71412ba0bd7e49242d9c74",
            "9043dd3ca9d849d3b2901a021ac84d97",
            "6ef47b6e8b63488baa517560be517186",
            "e325cb217d70472ab579975525663ec8",
            "776d983349784102bc47efa13d3648a9"
          ]
        }
      },
      "source": [
        "ftn_render_cold_start()"
      ],
      "execution_count": 12,
      "outputs": [
        {
          "output_type": "display_data",
          "data": {
            "application/vnd.jupyter.widget-view+json": {
              "model_id": "1a13afe5586a4df1942d1d5c3f721491",
              "version_minor": 0,
              "version_major": 2
            },
            "text/plain": [
              "VBox(children=(Text(value='@united flying gla-mco in a few weeks. How long do we have to be at airport for bef…"
            ]
          },
          "metadata": {
            "tags": []
          }
        },
        {
          "output_type": "display_data",
          "data": {
            "application/vnd.jupyter.widget-view+json": {
              "model_id": "67a244288d0349a6ba34b30c43ed1bfe",
              "version_minor": 0,
              "version_major": 2
            },
            "text/plain": [
              "VBox(children=(Text(value=\"@AmericanAir don't worry you won't steal my money again\", layout=Layout(width='70%'…"
            ]
          },
          "metadata": {
            "tags": []
          }
        },
        {
          "output_type": "display_data",
          "data": {
            "application/vnd.jupyter.widget-view+json": {
              "model_id": "f22ef6af1113489c967a0ddba1518920",
              "version_minor": 0,
              "version_major": 2
            },
            "text/plain": [
              "VBox(children=(Text(value='@JetBlue Im just saying change can be amazing, like Miami. 😉', layout=Layout(width=…"
            ]
          },
          "metadata": {
            "tags": []
          }
        },
        {
          "output_type": "display_data",
          "data": {
            "application/vnd.jupyter.widget-view+json": {
              "model_id": "ebeafa179aa744de9212458d1a936f82",
              "version_minor": 0,
              "version_major": 2
            },
            "text/plain": [
              "VBox(children=(Text(value='@JetBlue Oh I will. #Disney bound. #workhard #playsoon', layout=Layout(width='70%')…"
            ]
          },
          "metadata": {
            "tags": []
          }
        }
      ]
    }
  ]
}